{
  "nbformat": 4,
  "nbformat_minor": 0,
  "metadata": {
    "colab": {
      "provenance": [],
      "authorship_tag": "ABX9TyOLPM7gvUrXsNoETvxkK6Y7",
      "include_colab_link": true
    },
    "kernelspec": {
      "name": "python3",
      "display_name": "Python 3"
    },
    "language_info": {
      "name": "python"
    }
  },
  "cells": [
    {
      "cell_type": "markdown",
      "metadata": {
        "id": "view-in-github",
        "colab_type": "text"
      },
      "source": [
        "<a href=\"https://colab.research.google.com/github/nooraovo/nooraovo.github.io/blob/main/Multi_neuron_exp1_rank%2Bfeature.ipynb\" target=\"_parent\"><img src=\"https://colab.research.google.com/assets/colab-badge.svg\" alt=\"Open In Colab\"/></a>"
      ]
    },
    {
      "cell_type": "code",
      "execution_count": 12,
      "metadata": {
        "id": "QeEzgtDs6CDA"
      },
      "outputs": [],
      "source": [
        "import torch\n",
        "import torch.nn as nn\n",
        "import torch.nn.functional as F\n",
        "import numpy as np\n",
        "import matplotlib.pyplot as plt\n",
        "import copy"
      ]
    },
    {
      "cell_type": "code",
      "source": [
        "class TwoLayerNN(nn.Module):\n",
        "  def __init__(self, m, d): # fix the second layer to be all 1\n",
        "    super().__init__()\n",
        "    self.fc1 = nn.Linear(d, m, bias=False)\n",
        "    self.fc2 = nn.Linear(m, 1, bias=False)\n",
        "\n",
        "  def activation(self, x): # cubic relu activation\n",
        "    return (x.clamp(min=0))\n",
        "\n",
        "  def forward(self, x):\n",
        "    _output = self.activation(self.fc1(x))\n",
        "    output = self.fc2(_output)\n",
        "    return output\n",
        "\n",
        "  def features(self, x, normalize=True, scaled=False, n_hidden_to_take=-1):\n",
        "    for i in range(n_hidden_to_take if n_hidden_to_take > 0 else 1):\n",
        "      x = F.relu(self.fc1(x))\n",
        "    if scaled and n_hidden_to_take in [-1, 3]:\n",
        "      x = self.fc2(x)\n",
        "    if normalize:\n",
        "      x /= (x**2).sum(1, keepdim=True)**0.5\n",
        "      x[torch.isnan(x)] = 0.0\n",
        "    return x.data.numpy()\n",
        "\n",
        "  def feature_sparsity(self, X, n_hidden_to_take=-1, corr_threshold=0.99):\n",
        "    phi = self.features(X, n_hidden_to_take=n_hidden_to_take)\n",
        "    idx_keep = np.where((phi > 0.0).sum(0) > 0)[0]\n",
        "    phi_filtered = phi[:, idx_keep]  # filter out zeros\n",
        "    corr_matrix = np.corrcoef(phi_filtered.T)\n",
        "    corr_matrix -= np.eye(corr_matrix.shape[0])\n",
        "\n",
        "    idx_to_delete, i, j = [], 0, 0\n",
        "    while i != corr_matrix.shape[0]:\n",
        "      # print(i, corr_matrix.shape, (np.abs(corr_matrix[i]) > corr_threshold).sum())\n",
        "      if (np.abs(corr_matrix[i]) > corr_threshold).sum() > 0:\n",
        "        corr_matrix = np.delete(corr_matrix, (i), axis=0)\n",
        "        corr_matrix = np.delete(corr_matrix, (i), axis=1)\n",
        "        # print('delete', j)\n",
        "        idx_to_delete.append(j)\n",
        "      else:\n",
        "        i += 1\n",
        "      j += 1\n",
        "    assert corr_matrix.shape[0] == corr_matrix.shape[1]\n",
        "    # print(idx_to_delete, idx_keep)\n",
        "    idx_keep = np.delete(idx_keep, [idx_to_delete])\n",
        "    sparsity = (phi[:, idx_keep] != 0).sum() / (phi.shape[0] * phi.shape[1])\n",
        "\n",
        "    return sparsity"
      ],
      "metadata": {
        "id": "NGwpXHFR6QOn"
      },
      "execution_count": 41,
      "outputs": []
    },
    {
      "cell_type": "code",
      "source": [
        "n = 70\n",
        "D_in = 2\n",
        "D_out = 1\n",
        "m = 20\n",
        "l0_threshold_grad_matrix = 0.0001\n",
        "\n",
        "def get_data(n, D_in):\n",
        "  x=torch.randn(n,D_in)\n",
        "  torch.nn.init.normal_(x, 0, 1) # initialize x\n",
        "\n",
        "  u=torch.rand(D_in,D_out)\n",
        "  u=u/u.norm() # ||u||=1\n",
        "  y=x.mm(u)\n",
        "  y=y.clamp(min=0)\n",
        "\n",
        "  return x, y"
      ],
      "metadata": {
        "id": "c_oGVV1z6y-J"
      },
      "execution_count": 42,
      "outputs": []
    },
    {
      "cell_type": "code",
      "source": [
        "x, y = get_data(n, D_in)\n",
        "model =  TwoLayerNN(m, D_in)\n",
        "optimizer = torch.optim.SGD(model.parameters(), lr=0.01, momentum=.9, weight_decay=0)\n",
        "criteria = nn.MSELoss()"
      ],
      "metadata": {
        "id": "uxulOnqs7v8w"
      },
      "execution_count": 43,
      "outputs": []
    },
    {
      "cell_type": "code",
      "source": [
        "def weights_init(m):\n",
        "  for p in m.parameters():\n",
        "    nn.init.xavier_uniform_(p, gain=.1)\n",
        "\n",
        "# def train(epochs, lr):\n",
        "#   model =  TwoLayerNN(m, D_in)\n",
        "#   model.apply(weights_init)\n",
        "#   optimizer = torch.optim.SGD(model.parameters(), lr=lr, momentum=0, weight_decay=0)\n",
        "\n",
        "#   model.train()\n",
        "#   res = []\n",
        "#   for epoch in range(epochs):\n",
        "#     output = model(x)\n",
        "#     loss = criteria(output, y)\n",
        "\n",
        "#     optimizer.zero_grad()\n",
        "#     loss.backward()\n",
        "\n",
        "#     optimizer.step()\n",
        "\n",
        "#     tmp = []\n",
        "#     flag = 0\n",
        "#     for p in model.parameters():\n",
        "#       print(np.linalg.matrix_rank(p.data.numpy()))\n",
        "#       tmp += np.linalg.matrix_rank(p.data.numpy())\n",
        "#       break;\n",
        "#       # tmp += [(p.clone().detach()**2).sum(dim=-1).numpy()]\n",
        "\n",
        "#     res += [tmp]\n",
        "#     if epoch % 100 == 0:\n",
        "#       print (epoch, loss.item())\n",
        "\n",
        "#   return np.array(res)\n",
        "def train(epochs, lr):\n",
        "  train_loss, nets_avg = [], []\n",
        "  model = TwoLayerNN(m, D_in)\n",
        "  model.apply(weights_init)\n",
        "  net, net_avg = copy.deepcopy(model), copy.deepcopy(model)\n",
        "  optimizer = torch.optim.SGD(net.parameters(), lr=lr, momentum=0, weight_decay=0)\n",
        "  net.train()\n",
        "\n",
        "  for epoch in range(epochs):\n",
        "    output = net(x)\n",
        "    loss = criteria(output, y)\n",
        "    if epoch % 100 == 0:\n",
        "      print (epoch, loss.item())\n",
        "    train_loss += [loss.item()]\n",
        "    nets_avg.append(copy.deepcopy(net))\n",
        "\n",
        "    optimizer.zero_grad()\n",
        "    loss.backward()\n",
        "\n",
        "    optimizer.step()\n",
        "\n",
        "  return train_loss, nets_avg"
      ],
      "metadata": {
        "id": "OjTRSYLJ8CJ9"
      },
      "execution_count": 44,
      "outputs": []
    },
    {
      "cell_type": "code",
      "source": [
        "def compute_grad_matrix(net, X):\n",
        "    optimizer = torch.optim.SGD(net.parameters(), lr=0.0)\n",
        "    grad_matrix_list = []\n",
        "    for i in range(X.shape[0]):\n",
        "        h = net(X[[i]])\n",
        "        optimizer.zero_grad()\n",
        "        h.backward()\n",
        "\n",
        "        grad_total_list = []\n",
        "        for param in net.parameters():\n",
        "            grad_total_list.append(param.grad.flatten().data.numpy())\n",
        "\n",
        "        grad_total = np.concatenate(grad_total_list)\n",
        "        grad_matrix_list.append(grad_total)\n",
        "\n",
        "    grad_matrix = np.vstack(grad_matrix_list)\n",
        "    return grad_matrix\n",
        "\n",
        "def compute_grad_matrix_ranks(nets, X, l0_threshold_grad_matrix=0.0001):\n",
        "    n_params = sum([np.prod(param.shape) for param in nets[-1].parameters()])\n",
        "    X_eval = X[:n_params]\n",
        "    grad_matrix_ranks = []\n",
        "    for net in nets:\n",
        "        svals = np.linalg.svd(compute_grad_matrix(net, X_eval))[1]\n",
        "        rank = (svals / svals[0] > l0_threshold_grad_matrix).sum()\n",
        "        grad_matrix_ranks.append(rank)\n",
        "    return grad_matrix_ranks"
      ],
      "metadata": {
        "id": "qinrjBIL8luz"
      },
      "execution_count": 45,
      "outputs": []
    },
    {
      "cell_type": "code",
      "source": [
        "lr_small = 0.005\n",
        "loss_small, net_small = train(15000, lr=lr_small)"
      ],
      "metadata": {
        "colab": {
          "base_uri": "https://localhost:8080/"
        },
        "id": "rjFja4oI8Kcr",
        "outputId": "bb82a9e3-f288-43b7-db6f-86638331873a"
      },
      "execution_count": 46,
      "outputs": [
        {
          "output_type": "stream",
          "name": "stdout",
          "text": [
            "0 0.4245467185974121\n",
            "100 0.41302618384361267\n",
            "200 0.3990050256252289\n",
            "300 0.3740261197090149\n",
            "400 0.32642045617103577\n",
            "500 0.24686382710933685\n",
            "600 0.14623941481113434\n",
            "700 0.06266965717077255\n",
            "800 0.019688865169882774\n",
            "900 0.005064006894826889\n",
            "1000 0.00126271799672395\n",
            "1100 0.00038602063432335854\n",
            "1200 0.00018258752243127674\n",
            "1300 0.00012863772280979902\n",
            "1400 0.00011016855569323525\n",
            "1500 0.00010186637518927455\n",
            "1600 9.757798397913575e-05\n",
            "1700 9.443108137929812e-05\n",
            "1800 9.180612687487155e-05\n",
            "1900 8.945316221797839e-05\n",
            "2000 8.726904343347996e-05\n",
            "2100 8.519547554897144e-05\n",
            "2200 8.320393681060523e-05\n",
            "2300 8.126763714244589e-05\n",
            "2400 7.938749331515282e-05\n",
            "2500 7.755823025945574e-05\n",
            "2600 7.596168870804831e-05\n",
            "2700 7.44058852433227e-05\n",
            "2800 7.291187648661435e-05\n",
            "2900 7.154971535783261e-05\n",
            "3000 7.022225327091292e-05\n",
            "3100 6.892708188388497e-05\n",
            "3200 6.766259321011603e-05\n",
            "3300 6.643703090958297e-05\n",
            "3400 6.531034159706905e-05\n",
            "3500 6.420773570425808e-05\n",
            "3600 6.313029007287696e-05\n",
            "3700 6.210762512637302e-05\n",
            "3800 6.11578652751632e-05\n",
            "3900 6.0233134718146175e-05\n",
            "4000 5.933201464358717e-05\n",
            "4100 5.8450601500226185e-05\n",
            "4200 5.758930274168961e-05\n",
            "4300 5.6747372582321987e-05\n",
            "4400 5.592467641690746e-05\n",
            "4500 5.511954441317357e-05\n",
            "4600 5.43342212040443e-05\n",
            "4700 5.3572075557895005e-05\n",
            "4800 5.282555503072217e-05\n",
            "4900 5.209405208006501e-05\n",
            "5000 5.137790139997378e-05\n",
            "5100 5.0677626859396696e-05\n",
            "5200 4.999226439394988e-05\n",
            "5300 4.932042793370783e-05\n",
            "5400 4.8661902837920934e-05\n",
            "5500 4.801635805051774e-05\n",
            "5600 4.738308416563086e-05\n",
            "5700 4.676237949752249e-05\n",
            "5800 4.615345096681267e-05\n",
            "5900 4.5556127588497475e-05\n",
            "6000 4.496986002777703e-05\n",
            "6100 4.4395390432327986e-05\n",
            "6200 4.383342820801772e-05\n",
            "6300 4.328370050643571e-05\n",
            "6400 4.274559978512116e-05\n",
            "6500 4.222379357088357e-05\n",
            "6600 4.1711795347509906e-05\n",
            "6700 4.120881931157783e-05\n",
            "6800 4.07148472731933e-05\n",
            "6900 4.023086148663424e-05\n",
            "7000 3.975575236836448e-05\n",
            "7100 3.9289137930609286e-05\n",
            "7200 3.883418321493082e-05\n",
            "7300 3.838758129859343e-05\n",
            "7400 3.7948437238810584e-05\n",
            "7500 3.7516751035582274e-05\n",
            "7600 3.7092442653374746e-05\n",
            "7700 3.667515920824371e-05\n",
            "7800 3.6265610106056556e-05\n",
            "7900 3.5863584344042465e-05\n",
            "8000 3.546831430867314e-05\n",
            "8100 3.507921428536065e-05\n",
            "8200 3.469678995315917e-05\n",
            "8300 3.4319684345973656e-05\n",
            "8400 3.394870145712048e-05\n",
            "8500 3.358373942319304e-05\n",
            "8600 3.3224419894395396e-05\n",
            "8700 3.287203435320407e-05\n",
            "8800 3.2525178539799526e-05\n",
            "8900 3.2183848816202953e-05\n",
            "9000 3.184757224516943e-05\n",
            "9100 3.1516639865003526e-05\n",
            "9200 3.1190633308142424e-05\n",
            "9300 3.0869650800013915e-05\n",
            "9400 3.055336492252536e-05\n",
            "9500 3.0242172215366736e-05\n",
            "9600 2.9935414204373956e-05\n",
            "9700 2.9634149541379884e-05\n",
            "9800 2.9343284040805884e-05\n",
            "9900 2.905700785049703e-05\n",
            "10000 2.8774784368579276e-05\n",
            "10100 2.8496579034253955e-05\n",
            "10200 2.8222400942468084e-05\n",
            "10300 2.7952277378062718e-05\n",
            "10400 2.7685997338267043e-05\n",
            "10500 2.7423548090155236e-05\n",
            "10600 2.7164902348886244e-05\n",
            "10700 2.6909747248282656e-05\n",
            "10800 2.6658364731702022e-05\n",
            "10900 2.6410438294988126e-05\n",
            "11000 2.6165889721596614e-05\n",
            "11100 2.592492637631949e-05\n",
            "11200 2.5687199013191275e-05\n",
            "11300 2.545249299146235e-05\n",
            "11400 2.5221261239494197e-05\n",
            "11500 2.4992932594614103e-05\n",
            "11600 2.4767659851931967e-05\n",
            "11700 2.4545648557250388e-05\n",
            "11800 2.4326211132574826e-05\n",
            "11900 2.41097150137648e-05\n",
            "12000 2.389638939348515e-05\n",
            "12100 2.3685655833105557e-05\n",
            "12200 2.3477585273212753e-05\n",
            "12300 2.3272328689927235e-05\n",
            "12400 2.3069866074365564e-05\n",
            "12500 2.286978269694373e-05\n",
            "12600 2.26724205276696e-05\n",
            "12700 2.2477404854726046e-05\n",
            "12800 2.2284719307208434e-05\n",
            "12900 2.2094865926192142e-05\n",
            "13000 2.1907173504587263e-05\n",
            "13100 2.1721489247283898e-05\n",
            "13200 2.1538406144827604e-05\n",
            "13300 2.1357671357691288e-05\n",
            "13400 2.117891017405782e-05\n",
            "13500 2.1002479115850292e-05\n",
            "13600 2.082830724248197e-05\n",
            "13700 2.065607623080723e-05\n",
            "13800 2.048593341896776e-05\n",
            "13900 2.031803705904167e-05\n",
            "14000 2.015190875681583e-05\n",
            "14100 1.9987837731605396e-05\n",
            "14200 1.98257857846329e-05\n",
            "14300 1.9665616491693072e-05\n",
            "14400 1.950728619704023e-05\n",
            "14500 1.9350663933437318e-05\n",
            "14600 1.9196015273337252e-05\n",
            "14700 1.9043252905248664e-05\n",
            "14800 1.8892435036832467e-05\n",
            "14900 1.874320332717616e-05\n"
          ]
        }
      ]
    },
    {
      "cell_type": "code",
      "source": [
        "lr_large = 0.3\n",
        "loss_large, net_large = train(15000, lr=lr_large)"
      ],
      "metadata": {
        "colab": {
          "base_uri": "https://localhost:8080/"
        },
        "id": "T1-Kq1-7lDTI",
        "outputId": "38acc962-8be8-4b4d-8f04-8530dc63bdd1"
      },
      "execution_count": 48,
      "outputs": [
        {
          "output_type": "stream",
          "name": "stdout",
          "text": [
            "0 0.41687247157096863\n",
            "100 1.3093123016005848e-05\n",
            "200 6.972048140596598e-06\n",
            "300 3.988227945228573e-06\n",
            "400 2.54437213698111e-06\n",
            "500 1.7071512274924316e-06\n",
            "600 1.347304987575626e-06\n",
            "700 1.0877433851419482e-06\n",
            "800 8.89528621428326e-07\n",
            "900 7.196709930212819e-07\n",
            "1000 5.829986662320152e-07\n",
            "1100 4.7355112542391e-07\n",
            "1200 3.86121968176667e-07\n",
            "1300 3.1607689265911176e-07\n",
            "1400 2.5985718821175396e-07\n",
            "1500 2.1511945647034736e-07\n",
            "1600 1.7869071200493636e-07\n",
            "1700 1.4900693656727526e-07\n",
            "1800 1.2495657131239568e-07\n",
            "1900 1.0528777494300812e-07\n",
            "2000 8.914464189047067e-08\n",
            "2100 7.588582207063155e-08\n",
            "2200 6.497573679098423e-08\n",
            "2300 5.59754163020898e-08\n",
            "2400 4.854086199657104e-08\n",
            "2500 4.2392645838162935e-08\n",
            "2600 3.72982249530196e-08\n",
            "2700 3.3068058513663345e-08\n",
            "2800 2.9885629970749505e-08\n",
            "2900 2.7533529234347043e-08\n",
            "3000 2.5484025556465895e-08\n",
            "3100 2.369224993969965e-08\n",
            "3200 2.212011374069789e-08\n",
            "3300 2.0732978001092306e-08\n",
            "3400 1.950640893255695e-08\n",
            "3500 1.8414468172522902e-08\n",
            "3600 1.7441077915236747e-08\n",
            "3700 1.6561152449412475e-08\n",
            "3800 1.577344121983515e-08\n",
            "3900 1.5058907010256917e-08\n",
            "4000 1.441138408608822e-08\n",
            "4100 1.3820205424508458e-08\n",
            "4200 1.3280351041089489e-08\n",
            "4300 1.2783925917858596e-08\n",
            "4400 1.2328368548253366e-08\n",
            "4500 1.1908966257578868e-08\n",
            "4600 1.1517784948011922e-08\n",
            "4700 1.1154347667741149e-08\n",
            "4800 1.0812681416894065e-08\n",
            "4900 1.0496124858150324e-08\n",
            "5000 1.0197886091134478e-08\n",
            "5100 9.917622278976523e-09\n",
            "5200 9.652153742933933e-09\n",
            "5300 9.40339717203642e-09\n",
            "5400 9.166025272122624e-09\n",
            "5500 8.939115225814476e-09\n",
            "5600 8.725392852682035e-09\n",
            "5700 8.520134819889336e-09\n",
            "5800 8.325513611850965e-09\n",
            "5900 8.138711926619635e-09\n",
            "6000 7.959257253276064e-09\n",
            "6100 7.786425726408197e-09\n",
            "6200 7.621693498549575e-09\n",
            "6300 7.461673057207463e-09\n",
            "6400 7.307867200267992e-09\n",
            "6500 7.159954851232442e-09\n",
            "6600 7.016610403809409e-09\n",
            "6700 6.879519620639485e-09\n",
            "6800 6.744777181211248e-09\n",
            "6900 6.615323844272325e-09\n",
            "7000 6.490048498619672e-09\n",
            "7100 6.3676068862150714e-09\n",
            "7200 6.2505316478222994e-09\n",
            "7300 6.1364269221542145e-09\n",
            "7400 6.0248370736815104e-09\n",
            "7500 5.916775513981065e-09\n",
            "7600 5.81179415704014e-09\n",
            "7700 5.710034223227467e-09\n",
            "7800 5.61101254348273e-09\n",
            "7900 5.508773881501838e-09\n",
            "8000 5.407308378835296e-09\n",
            "8100 5.307613015759216e-09\n",
            "8200 5.210361031515731e-09\n",
            "8300 5.11591213836482e-09\n",
            "8400 5.022697369128082e-09\n",
            "8500 4.932775965471592e-09\n",
            "8600 4.845061685188057e-09\n",
            "8700 4.75907091512795e-09\n",
            "8800 4.675691833710971e-09\n",
            "8900 4.5936743298113925e-09\n",
            "9000 4.513549978213405e-09\n",
            "9100 4.435144251857537e-09\n",
            "9200 4.35886837735211e-09\n",
            "9300 4.284757437744702e-09\n",
            "9400 4.212064919073555e-09\n",
            "9500 4.14084766475753e-09\n",
            "9600 4.071796233517944e-09\n",
            "9700 4.004837794724381e-09\n",
            "9800 3.938640080747291e-09\n",
            "9900 3.873974474544184e-09\n",
            "10000 3.810527893222115e-09\n",
            "10100 3.745386667475259e-09\n",
            "10200 3.6813418979875223e-09\n",
            "10300 3.6195371144742694e-09\n",
            "10400 3.559709860212479e-09\n",
            "10500 3.5001623821528938e-09\n",
            "10600 3.443078488984952e-09\n",
            "10700 3.387312652591845e-09\n",
            "10800 3.333434195340601e-09\n",
            "10900 3.283083582772406e-09\n",
            "11000 3.2343423495007073e-09\n",
            "11100 3.18636805829442e-09\n",
            "11200 3.1393359023468292e-09\n",
            "11300 3.0935223271910672e-09\n",
            "11400 3.0487057323114186e-09\n",
            "11500 3.0049007726518084e-09\n",
            "11600 2.9625937258970225e-09\n",
            "11700 2.9226956410610683e-09\n",
            "11800 2.8841229404719115e-09\n",
            "11900 2.8461848433636305e-09\n",
            "12000 2.8095030746300154e-09\n",
            "12100 2.7734918806032738e-09\n",
            "12200 2.7397759616576423e-09\n",
            "12300 2.7060600427120107e-09\n",
            "12400 2.6730653246431757e-09\n",
            "12500 2.6411426379269187e-09\n",
            "12600 2.609849891754834e-09\n",
            "12700 2.579102931221655e-09\n",
            "12800 2.5490214383694365e-09\n",
            "12900 2.518897979086887e-09\n",
            "13000 2.48964115989736e-09\n",
            "13100 2.461109760432123e-09\n",
            "13200 2.434340506951571e-09\n",
            "13300 2.4082433824901273e-09\n",
            "13400 2.383299557706664e-09\n",
            "13500 2.3591761877383988e-09\n",
            "13600 2.33451569187082e-09\n",
            "13700 2.310936553229226e-09\n",
            "13800 2.2874504512770955e-09\n",
            "13900 2.264554321840251e-09\n",
            "14000 2.242416918818435e-09\n",
            "14100 2.2199475591122564e-09\n",
            "14200 2.198202730951948e-09\n",
            "14300 2.1772701419564555e-09\n",
            "14400 2.1564814378649544e-09\n",
            "14500 2.135811527637088e-09\n",
            "14600 2.1158688134903514e-09\n",
            "14700 2.0960069235798073e-09\n",
            "14800 2.0764470143319613e-09\n",
            "14900 2.0576027548457887e-09\n"
          ]
        }
      ]
    },
    {
      "cell_type": "code",
      "source": [
        "print(net_small[1])\n",
        "for param in net_small[-1].parameters():\n",
        "  print(param)\n",
        "n_params = sum([np.prod(param.shape) for param in net_small[-1].parameters()])\n",
        "print(n_params)\n",
        "print(x[:n_params].size())"
      ],
      "metadata": {
        "colab": {
          "base_uri": "https://localhost:8080/"
        },
        "id": "15hDp6AKfXbn",
        "outputId": "93e4ffe9-655c-4848-9fe2-a01ec16ac7ce"
      },
      "execution_count": null,
      "outputs": [
        {
          "output_type": "stream",
          "name": "stdout",
          "text": [
            "TwoLayerNN(\n",
            "  (fc1): Linear(in_features=2, out_features=20, bias=False)\n",
            "  (fc2): Linear(in_features=20, out_features=1, bias=False)\n",
            ")\n",
            "Parameter containing:\n",
            "tensor([[-6.2956e-03,  2.0814e-03],\n",
            "        [-1.4530e-02,  1.2575e-02],\n",
            "        [ 5.9332e-02, -2.8264e-02],\n",
            "        [ 1.1212e-01,  1.1603e-01],\n",
            "        [ 3.8775e-01,  2.7301e-01],\n",
            "        [-1.4203e-02, -3.7759e-02],\n",
            "        [-3.8438e-02, -3.0234e-02],\n",
            "        [-2.1376e-02,  3.1010e-02],\n",
            "        [ 1.8125e-01,  9.2113e-02],\n",
            "        [ 2.4705e-01,  1.3929e-01],\n",
            "        [ 3.9745e-01,  2.5380e-01],\n",
            "        [-4.5415e-02,  3.8050e-02],\n",
            "        [ 3.3281e-01,  2.2650e-01],\n",
            "        [ 3.0793e-01,  2.3614e-01],\n",
            "        [-1.1424e-02, -3.0058e-02],\n",
            "        [ 2.2671e-03, -2.3054e-02],\n",
            "        [ 2.5965e-01,  1.6530e-01],\n",
            "        [ 2.5029e-03, -8.9435e-03],\n",
            "        [-5.0754e-02,  2.3156e-02],\n",
            "        [ 2.5367e-04,  7.2532e-02]], requires_grad=True)\n",
            "Parameter containing:\n",
            "tensor([[-0.0140, -0.0272,  0.0360,  0.1588,  0.4710, -0.0294,  0.0142,  0.0237,\n",
            "          0.1997,  0.2811,  0.4695, -0.0118,  0.4013,  0.3893, -0.0325, -0.0362,\n",
            "          0.3052, -0.0123, -0.0149,  0.0650]], requires_grad=True)\n",
            "60\n",
            "torch.Size([60, 2])\n"
          ]
        }
      ]
    },
    {
      "cell_type": "code",
      "source": [
        "n_params = sum([np.prod(param.shape) for param in net_small[-1].parameters()])\n",
        "grad_matrix_ranks = compute_grad_matrix_ranks(net_small, x[:n_params], l0_threshold_grad_matrix)\n",
        "plt.plot(grad_matrix_ranks)\n",
        "# for i in range(m):\n",
        "#   plt.xlim(0, 400)\n",
        "#   plt.ylim(0, 0.15)\n",
        "#   plt.plot(norm_small[::10, 0, i])\n",
        "#   plt.title('lr={0}'.format(lr_small))\n",
        "  #plt.plot(log2[::10, 1, i])"
      ],
      "metadata": {
        "colab": {
          "base_uri": "https://localhost:8080/",
          "height": 448
        },
        "id": "5tExVPyI8noG",
        "outputId": "68f02b95-56b8-44f8-936d-8be4a170ddda"
      },
      "execution_count": 50,
      "outputs": [
        {
          "output_type": "execute_result",
          "data": {
            "text/plain": [
              "[<matplotlib.lines.Line2D at 0x7c21cb5598a0>]"
            ]
          },
          "metadata": {},
          "execution_count": 50
        },
        {
          "output_type": "display_data",
          "data": {
            "text/plain": [
              "<Figure size 640x480 with 1 Axes>"
            ],
            "image/png": "[encoded data removed]"
          },
          "metadata": {}
        }
      ]
    },
    {
      "cell_type": "code",
      "source": [
        "print(net_large[1])\n",
        "n_params = sum([np.prod(param.shape) for param in net_large[-1].parameters()])\n",
        "grad_matrix_ranks = compute_grad_matrix_ranks(net_large, x[:n_params], l0_threshold_grad_matrix)\n",
        "plt.plot(grad_matrix_ranks)"
      ],
      "metadata": {
        "colab": {
          "base_uri": "https://localhost:8080/",
          "height": 519
        },
        "id": "bgYQejdJ_SB_",
        "outputId": "ea9a08a6-ff4d-4f71-9ed2-b67ac6b901a1"
      },
      "execution_count": 51,
      "outputs": [
        {
          "output_type": "stream",
          "name": "stdout",
          "text": [
            "TwoLayerNN(\n",
            "  (fc1): Linear(in_features=2, out_features=20, bias=False)\n",
            "  (fc2): Linear(in_features=20, out_features=1, bias=False)\n",
            ")\n"
          ]
        },
        {
          "output_type": "execute_result",
          "data": {
            "text/plain": [
              "[<matplotlib.lines.Line2D at 0x7c21ce28ea70>]"
            ]
          },
          "metadata": {},
          "execution_count": 51
        },
        {
          "output_type": "display_data",
          "data": {
            "text/plain": [
              "<Figure size 640x480 with 1 Axes>"
            ],
            "image/png": "[encoded data removed]"
          },
          "metadata": {}
        }
      ]
    },
    {
      "cell_type": "code",
      "source": [
        "feature_sparsity_small = np.array([net.feature_sparsity(x) for net in net_small])\n",
        "plt.plot(100*feature_sparsity_small)"
      ],
      "metadata": {
        "colab": {
          "base_uri": "https://localhost:8080/",
          "height": 448
        },
        "id": "GF0B2orEfiVA",
        "outputId": "e2bfd422-3f41-4824-9357-9dd509e71e6b"
      },
      "execution_count": 47,
      "outputs": [
        {
          "output_type": "execute_result",
          "data": {
            "text/plain": [
              "[<matplotlib.lines.Line2D at 0x7c21bf414370>]"
            ]
          },
          "metadata": {},
          "execution_count": 47
        },
        {
          "output_type": "display_data",
          "data": {
            "text/plain": [
              "<Figure size 640x480 with 1 Axes>"
            ],
            "image/png": "[encoded data removed]"
          },
          "metadata": {}
        }
      ]
    },
    {
      "cell_type": "code",
      "source": [
        "feature_sparsity_large = np.array([net.feature_sparsity(x) for net in net_large])\n",
        "plt.plot(100*feature_sparsity_large)"
      ],
      "metadata": {
        "colab": {
          "base_uri": "https://localhost:8080/",
          "height": 448
        },
        "id": "l55gQsiSiKQI",
        "outputId": "63ec39e1-4881-4d05-fc3b-922732888aec"
      },
      "execution_count": 49,
      "outputs": [
        {
          "output_type": "execute_result",
          "data": {
            "text/plain": [
              "[<matplotlib.lines.Line2D at 0x7c21cb0e1840>]"
            ]
          },
          "metadata": {},
          "execution_count": 49
        },
        {
          "output_type": "display_data",
          "data": {
            "text/plain": [
              "<Figure size 640x480 with 1 Axes>"
            ],
            "image/png": "[encoded data removed]"
          },
          "metadata": {}
        }
      ]
    },
    {
      "cell_type": "code",
      "source": [
        "fig,ax = plt.subplots()\n",
        "plt.yscale('log')\n",
        "plt.plot(loss_small, label='small')\n",
        "plt.plot(loss_large, label='large')\n",
        "ax.legend()"
      ],
      "metadata": {
        "colab": {
          "base_uri": "https://localhost:8080/",
          "height": 448
        },
        "id": "Mr7MAtoqBjOR",
        "outputId": "99456024-1965-42ef-b16f-9afc91c5148d"
      },
      "execution_count": null,
      "outputs": [
        {
          "output_type": "execute_result",
          "data": {
            "text/plain": [
              "<matplotlib.legend.Legend at 0x7d8b55038f10>"
            ]
          },
          "metadata": {},
          "execution_count": 43
        },
        {
          "output_type": "display_data",
          "data": {
            "text/plain": [
              "<Figure size 640x480 with 1 Axes>"
            ],
            "image/png": "[encoded data removed]"
          },
          "metadata": {}
        }
      ]
    }
  ]
}