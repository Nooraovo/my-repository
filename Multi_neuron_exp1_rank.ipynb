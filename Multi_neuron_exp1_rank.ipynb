{
  "nbformat": 4,
  "nbformat_minor": 0,
  "metadata": {
    "colab": {
      "provenance": [],
      "authorship_tag": "ABX9TyPdPFSMsnljOE9qzYzYkcNQ",
      "include_colab_link": true
    },
    "kernelspec": {
      "name": "python3",
      "display_name": "Python 3"
    },
    "language_info": {
      "name": "python"
    }
  },
  "cells": [
    {
      "cell_type": "markdown",
      "metadata": {
        "id": "view-in-github",
        "colab_type": "text"
      },
      "source": [
        "<a href=\"https://colab.research.google.com/github/nooraovo/nooraovo.github.io/blob/main/Multi_neuron_exp1_rank.ipynb\" target=\"_parent\"><img src=\"https://colab.research.google.com/assets/colab-badge.svg\" alt=\"Open In Colab\"/></a>"
      ]
    },
    {
      "cell_type": "code",
      "execution_count": 3,
      "metadata": {
        "id": "QeEzgtDs6CDA"
      },
      "outputs": [],
      "source": [
        "import torch\n",
        "import torch.nn as nn\n",
        "import torch.nn.functional as F\n",
        "import numpy as np\n",
        "import matplotlib.pyplot as plt\n",
        "import copy"
      ]
    },
    {
      "cell_type": "code",
      "source": [
        "class TwoLayerNN(nn.Module):\n",
        "  def __init__(self, m, d): # fix the second layer to be all 1\n",
        "    super().__init__()\n",
        "    self.fc1 = nn.Linear(d, m, bias=False)\n",
        "    self.fc2 = nn.Linear(m, 1, bias=False)\n",
        "\n",
        "  def activation(self, x): # cubic relu activation\n",
        "    return (x.clamp(min=0))\n",
        "\n",
        "  def forward(self, x):\n",
        "    _output = self.activation(self.fc1(x))\n",
        "    output = self.fc2(_output)\n",
        "    return output"
      ],
      "metadata": {
        "id": "NGwpXHFR6QOn"
      },
      "execution_count": 4,
      "outputs": []
    },
    {
      "cell_type": "code",
      "source": [
        "n = 30\n",
        "D_in = 2\n",
        "D_out = 1\n",
        "m = 30\n",
        "l0_threshold_grad_matrix = 0.0001\n",
        "\n",
        "def get_data(n, D_in):\n",
        "  x=torch.randn(n,D_in)\n",
        "  torch.nn.init.normal_(x, 0, 1) # initialize x\n",
        "\n",
        "  u=torch.rand(D_in,D_out)\n",
        "  u=u/u.norm() # ||u||=1\n",
        "  y=x.mm(u)\n",
        "  y=y.clamp(min=0)\n",
        "\n",
        "  return x, y"
      ],
      "metadata": {
        "id": "c_oGVV1z6y-J"
      },
      "execution_count": 36,
      "outputs": []
    },
    {
      "cell_type": "code",
      "source": [
        "x, y = get_data(n, D_in)\n",
        "model =  TwoLayerNN(m, D_in)\n",
        "optimizer = torch.optim.SGD(model.parameters(), lr=0.01, momentum=.9, weight_decay=0)\n",
        "criteria = nn.MSELoss()"
      ],
      "metadata": {
        "id": "uxulOnqs7v8w"
      },
      "execution_count": 23,
      "outputs": []
    },
    {
      "cell_type": "code",
      "source": [
        "def weights_init(m):\n",
        "  for p in m.parameters():\n",
        "    nn.init.xavier_uniform_(p, gain=.1)\n",
        "\n",
        "# def train(epochs, lr):\n",
        "#   model =  TwoLayerNN(m, D_in)\n",
        "#   model.apply(weights_init)\n",
        "#   optimizer = torch.optim.SGD(model.parameters(), lr=lr, momentum=0, weight_decay=0)\n",
        "\n",
        "#   model.train()\n",
        "#   res = []\n",
        "#   for epoch in range(epochs):\n",
        "#     output = model(x)\n",
        "#     loss = criteria(output, y)\n",
        "\n",
        "#     optimizer.zero_grad()\n",
        "#     loss.backward()\n",
        "\n",
        "#     optimizer.step()\n",
        "\n",
        "#     tmp = []\n",
        "#     flag = 0\n",
        "#     for p in model.parameters():\n",
        "#       print(np.linalg.matrix_rank(p.data.numpy()))\n",
        "#       tmp += np.linalg.matrix_rank(p.data.numpy())\n",
        "#       break;\n",
        "#       # tmp += [(p.clone().detach()**2).sum(dim=-1).numpy()]\n",
        "\n",
        "#     res += [tmp]\n",
        "#     if epoch % 100 == 0:\n",
        "#       print (epoch, loss.item())\n",
        "\n",
        "#   return np.array(res)\n",
        "def train(epochs, lr):\n",
        "  train_loss, nets_avg = [], []\n",
        "  model = TwoLayerNN(m, D_in)\n",
        "  model.apply(weights_init)\n",
        "  net, net_avg = copy.deepcopy(model), copy.deepcopy(model)\n",
        "  optimizer = torch.optim.SGD(net.parameters(), lr=lr, momentum=0, weight_decay=0)\n",
        "  net.train()\n",
        "\n",
        "  for epoch in range(epochs):\n",
        "    output = net(x)\n",
        "    loss = criteria(output, y)\n",
        "    if epoch % 100 == 0:\n",
        "      print (epoch, loss.item())\n",
        "    train_loss += [loss.item()]\n",
        "    nets_avg.append(copy.deepcopy(net))\n",
        "\n",
        "    optimizer.zero_grad()\n",
        "    loss.backward()\n",
        "\n",
        "    optimizer.step()\n",
        "\n",
        "  return train_loss, nets_avg"
      ],
      "metadata": {
        "id": "OjTRSYLJ8CJ9"
      },
      "execution_count": 24,
      "outputs": []
    },
    {
      "cell_type": "code",
      "source": [
        "def compute_grad_matrix(net, X):\n",
        "    optimizer = torch.optim.SGD(net.parameters(), lr=0.0)\n",
        "    grad_matrix_list = []\n",
        "    for i in range(X.shape[0]):\n",
        "        h = net(X[[i]])\n",
        "        optimizer.zero_grad()\n",
        "        h.backward()\n",
        "\n",
        "        grad_total_list = []\n",
        "        for param in net.parameters():\n",
        "            grad_total_list.append(param.grad.flatten().data.numpy())\n",
        "        grad_total = np.concatenate(grad_total_list)\n",
        "        grad_matrix_list.append(grad_total)\n",
        "\n",
        "    grad_matrix = np.vstack(grad_matrix_list)\n",
        "    return grad_matrix\n",
        "\n",
        "def compute_grad_matrix_ranks(nets, X, l0_threshold_grad_matrix=0.0001):\n",
        "    n_params = sum([np.prod(param.shape) for param in nets[-1].parameters()])\n",
        "    X_eval = X[:n_params]\n",
        "    grad_matrix_ranks = []\n",
        "    for net in nets:\n",
        "        svals = np.linalg.svd(compute_grad_matrix(net, X_eval))[1]\n",
        "        rank = (svals / svals[0] > l0_threshold_grad_matrix).sum()\n",
        "        grad_matrix_ranks.append(rank)\n",
        "    return grad_matrix_ranks"
      ],
      "metadata": {
        "id": "qinrjBIL8luz"
      },
      "execution_count": 25,
      "outputs": []
    },
    {
      "cell_type": "code",
      "source": [
        "lr_small = 0.005\n",
        "loss_small, net_small = train(15000, lr=lr_small)"
      ],
      "metadata": {
        "colab": {
          "base_uri": "https://localhost:8080/"
        },
        "id": "rjFja4oI8Kcr",
        "outputId": "fe4ed123-a015-46b4-f956-dff7f8dc676e"
      },
      "execution_count": 31,
      "outputs": [
        {
          "output_type": "stream",
          "name": "stdout",
          "text": [
            "0 0.6252213716506958\n",
            "100 0.6122740507125854\n",
            "200 0.5840936899185181\n",
            "300 0.502241849899292\n",
            "400 0.3209799826145172\n",
            "500 0.11387742310762405\n",
            "600 0.023695239797234535\n",
            "700 0.006234968546777964\n",
            "800 0.003115209052339196\n",
            "900 0.0019734071101993322\n",
            "1000 0.0012998769525438547\n",
            "1100 0.0008626417838968337\n",
            "1200 0.0005754245794378221\n",
            "1300 0.00038664296153001487\n",
            "1400 0.00026594343944452703\n",
            "1500 0.0001874579902505502\n",
            "1600 0.00013583892723545432\n",
            "1700 0.00010144853149540722\n",
            "1800 7.841037586331367e-05\n",
            "1900 6.285549170570448e-05\n",
            "2000 5.2233848691685125e-05\n",
            "2100 4.486839679884724e-05\n",
            "2200 3.96569594158791e-05\n",
            "2300 3.610796557040885e-05\n",
            "2400 3.351956183905713e-05\n",
            "2500 3.148741234326735e-05\n",
            "2600 3.019216273969505e-05\n",
            "2700 2.9194685339462012e-05\n",
            "2800 2.829966069839429e-05\n",
            "2900 2.748332371993456e-05\n",
            "3000 2.6728426746558398e-05\n",
            "3100 2.6022287784144282e-05\n",
            "3200 2.5356934202136472e-05\n",
            "3300 2.4726261472096667e-05\n",
            "3400 2.4125811250996776e-05\n",
            "3500 2.355226388317533e-05\n",
            "3600 2.300217965967022e-05\n",
            "3700 2.2473512217402458e-05\n",
            "3800 2.196558125433512e-05\n",
            "3900 2.147611667169258e-05\n",
            "4000 2.1003912479500286e-05\n",
            "4100 2.054893775493838e-05\n",
            "4200 2.010976277233567e-05\n",
            "4300 1.9685556253534742e-05\n",
            "4400 1.9275734302937053e-05\n",
            "4500 1.8879363778978586e-05\n",
            "4600 1.8500817532185465e-05\n",
            "4700 1.8135035134037025e-05\n",
            "4800 1.7780723283067346e-05\n",
            "4900 1.743778193485923e-05\n",
            "5000 1.71044757735217e-05\n",
            "5100 1.6781623344286345e-05\n",
            "5200 1.646886084927246e-05\n",
            "5300 1.616508416191209e-05\n",
            "5400 1.5870125935180113e-05\n",
            "5500 1.5583684216835536e-05\n",
            "5600 1.5305284250644036e-05\n",
            "5700 1.5034585885587148e-05\n",
            "5800 1.4771670066693332e-05\n",
            "5900 1.4515811017190572e-05\n",
            "6000 1.4267354345065542e-05\n",
            "6100 1.4025158634467516e-05\n",
            "6200 1.3789422155241482e-05\n",
            "6300 1.3559641047322657e-05\n",
            "6400 1.3336118172446731e-05\n",
            "6500 1.3118508832121734e-05\n",
            "6600 1.2906355550512671e-05\n",
            "6700 1.2700079423666466e-05\n",
            "6800 1.24985426737112e-05\n",
            "6900 1.2303574294492137e-05\n",
            "7000 1.2116276593587827e-05\n",
            "7100 1.193325897475006e-05\n",
            "7200 1.1754748811654281e-05\n",
            "7300 1.1580397767829709e-05\n",
            "7400 1.1409751095925458e-05\n",
            "7500 1.124301979871234e-05\n",
            "7600 1.107992557081161e-05\n",
            "7700 1.0919875421677716e-05\n",
            "7800 1.0763487807707861e-05\n",
            "7900 1.0620884495438077e-05\n",
            "8000 1.0490142813068815e-05\n",
            "8100 1.0362543434894178e-05\n",
            "8200 1.0237949936708901e-05\n",
            "8300 1.0116567864315584e-05\n",
            "8400 9.997996130550746e-06\n",
            "8500 9.882200174615718e-06\n",
            "8600 9.769238204171415e-06\n",
            "8700 9.658836461312603e-06\n",
            "8800 9.550831236992963e-06\n",
            "8900 9.445194336876739e-06\n",
            "9000 9.342021257907618e-06\n",
            "9100 9.24136838875711e-06\n",
            "9200 9.142724593402818e-06\n",
            "9300 9.046308150573168e-06\n",
            "9400 8.951771633292083e-06\n",
            "9500 8.859240551828407e-06\n",
            "9600 8.768285624682903e-06\n",
            "9700 8.679830898472574e-06\n",
            "9800 8.592966878495645e-06\n",
            "9900 8.50924971018685e-06\n",
            "10000 8.428341971011832e-06\n",
            "10100 8.348491974174976e-06\n",
            "10200 8.269586942333262e-06\n",
            "10300 8.191511369659565e-06\n",
            "10400 8.114166121231392e-06\n",
            "10500 8.037665793381166e-06\n",
            "10600 7.962117706483696e-06\n",
            "10700 7.887399078754243e-06\n",
            "10800 7.813485353835858e-06\n",
            "10900 7.740212822682224e-06\n",
            "11000 7.667565114388708e-06\n",
            "11100 7.595706847496331e-06\n",
            "11200 7.5248294706398156e-06\n",
            "11300 7.454673777829157e-06\n",
            "11400 7.385165645246161e-06\n",
            "11500 7.31629097572295e-06\n",
            "11600 7.248059773701243e-06\n",
            "11700 7.180596185207833e-06\n",
            "11800 7.113936590030789e-06\n",
            "11900 7.047835879347986e-06\n",
            "12000 6.982305876590544e-06\n",
            "12100 6.917714472365333e-06\n",
            "12200 6.854269486211706e-06\n",
            "12300 6.791831765440293e-06\n",
            "12400 6.730029781465419e-06\n",
            "12500 6.6689212872006465e-06\n",
            "12600 6.608386684092693e-06\n",
            "12700 6.548486453539226e-06\n",
            "12800 6.489087809313787e-06\n",
            "12900 6.43347584627918e-06\n",
            "13000 6.381881121342303e-06\n",
            "13100 6.330849373625824e-06\n",
            "13200 6.280330126173794e-06\n",
            "13300 6.230371582205407e-06\n",
            "13400 6.1809132603229955e-06\n",
            "13500 6.131925601948751e-06\n",
            "13600 6.083488187869079e-06\n",
            "13700 6.035450041963486e-06\n",
            "13800 5.987766598991584e-06\n",
            "13900 5.941214112681337e-06\n",
            "14000 5.89530827710405e-06\n",
            "14100 5.849743956787279e-06\n",
            "14200 5.804502961836988e-06\n",
            "14300 5.759750365541549e-06\n",
            "14400 5.715356110158609e-06\n",
            "14500 5.671286999131553e-06\n",
            "14600 5.6275466704391874e-06\n",
            "14700 5.584234259004006e-06\n",
            "14800 5.541398877539905e-06\n",
            "14900 5.4988913689157926e-06\n"
          ]
        }
      ]
    },
    {
      "cell_type": "code",
      "source": [
        "lr_large = 0.3\n",
        "loss_large, net_large = train(15000, lr=lr_large)"
      ],
      "metadata": {
        "colab": {
          "base_uri": "https://localhost:8080/"
        },
        "id": "T1-Kq1-7lDTI",
        "outputId": "8e7d26c5-cbd2-411b-ec4d-927465bb613f"
      },
      "execution_count": 32,
      "outputs": [
        {
          "output_type": "stream",
          "name": "stdout",
          "text": [
            "0 0.6244122982025146\n",
            "100 9.291498827224132e-06\n",
            "200 3.6780970731342677e-06\n",
            "300 1.831642521210597e-06\n",
            "400 1.0476691159055918e-06\n",
            "500 7.052657906569948e-07\n",
            "600 5.333919830263767e-07\n",
            "700 4.405873141877237e-07\n",
            "800 3.8269502056209603e-07\n",
            "900 3.3681683930808504e-07\n",
            "1000 2.9891512554058863e-07\n",
            "1100 2.6805614083968976e-07\n",
            "1200 2.4179652768907545e-07\n",
            "1300 2.189041339306641e-07\n",
            "1400 1.988246935979987e-07\n",
            "1500 1.8129200896055409e-07\n",
            "1600 1.657463712945173e-07\n",
            "1700 1.5206502723685844e-07\n",
            "1800 1.3997141934396495e-07\n",
            "1900 1.2924149928039697e-07\n",
            "2000 1.197189050117231e-07\n",
            "2100 1.147581443206036e-07\n",
            "2200 1.105159199710215e-07\n",
            "2300 1.0667813654663405e-07\n",
            "2400 1.0319835297423197e-07\n",
            "2500 9.970271719339507e-08\n",
            "2600 9.648343279877736e-08\n",
            "2700 9.354521779414426e-08\n",
            "2800 9.083884577876233e-08\n",
            "2900 8.833841746991311e-08\n",
            "3000 8.60454747453332e-08\n",
            "3100 8.391116068651172e-08\n",
            "3200 8.19333791923782e-08\n",
            "3300 8.008889551547327e-08\n",
            "3400 7.835735260641741e-08\n",
            "3500 7.68323999977838e-08\n",
            "3600 7.553101255552974e-08\n",
            "3700 7.435210136463866e-08\n",
            "3800 7.324847217660135e-08\n",
            "3900 7.222704567766414e-08\n",
            "4000 7.126869405738034e-08\n",
            "4100 7.025168713425956e-08\n",
            "4200 6.864477342105602e-08\n",
            "4300 6.719904632745966e-08\n",
            "4400 6.589922918465163e-08\n",
            "4500 6.470703084460183e-08\n",
            "4600 6.32508090347983e-08\n",
            "4700 6.070624891663101e-08\n",
            "4800 5.85330788283045e-08\n",
            "4900 5.6633901124314434e-08\n",
            "5000 5.495725829973708e-08\n",
            "5100 5.345571807424676e-08\n",
            "5200 5.211371245650298e-08\n",
            "5300 5.0890669456293836e-08\n",
            "5400 4.9780751965045056e-08\n",
            "5500 4.8769880578447555e-08\n",
            "5600 4.7835658989470176e-08\n",
            "5700 4.698338074149433e-08\n",
            "5800 4.620738636162969e-08\n",
            "5900 4.5485709421200227e-08\n",
            "6000 4.480992998878719e-08\n",
            "6100 4.417518084665062e-08\n",
            "6200 4.3588720188836305e-08\n",
            "6300 4.3022570395123694e-08\n",
            "6400 4.2485705620265435e-08\n",
            "6500 4.198324532467268e-08\n",
            "6600 4.150345134235067e-08\n",
            "6700 4.104019879491716e-08\n",
            "6800 4.060119707105514e-08\n",
            "6900 4.0175564208766446e-08\n",
            "7000 3.97651902517282e-08\n",
            "7100 3.9371816029643014e-08\n",
            "7200 3.8998297924308645e-08\n",
            "7300 3.862434283519178e-08\n",
            "7400 3.827324590588432e-08\n",
            "7500 3.7925584450704264e-08\n",
            "7600 3.75905599980797e-08\n",
            "7700 3.726022512751115e-08\n",
            "7800 3.6943941239542255e-08\n",
            "7900 3.663450343083241e-08\n",
            "8000 3.632766265582177e-08\n",
            "8100 3.6034066397405695e-08\n",
            "8200 3.574702844844069e-08\n",
            "8300 3.54640263822148e-08\n",
            "8400 3.5180825364022894e-08\n",
            "8500 3.4908005375200446e-08\n",
            "8600 3.463631159661418e-08\n",
            "8700 3.437826734398186e-08\n",
            "8800 3.411427584865123e-08\n",
            "8900 3.386347913192367e-08\n",
            "9000 3.3615499717143393e-08\n",
            "9100 3.336737464110229e-08\n",
            "9200 3.312517193876374e-08\n",
            "9300 3.2892309320686763e-08\n",
            "9400 3.265516568262683e-08\n",
            "9500 3.2437629471360196e-08\n",
            "9600 3.221636291073082e-08\n",
            "9700 3.2005381456201576e-08\n",
            "9800 3.178762142397318e-08\n",
            "9900 3.1581514292611246e-08\n",
            "10000 3.137863657798334e-08\n",
            "10100 3.1170948489034345e-08\n",
            "10200 3.097103729032824e-08\n",
            "10300 3.077795796002647e-08\n",
            "10400 3.0579766274740905e-08\n",
            "10500 3.039008333871607e-08\n",
            "10600 3.020299743639043e-08\n",
            "10700 3.001593285034687e-08\n",
            "10800 2.983638935916133e-08\n",
            "10900 2.9650705002381983e-08\n",
            "11000 2.947546562381831e-08\n",
            "11100 2.929626852221645e-08\n",
            "11200 2.9124475275921213e-08\n",
            "11300 2.8958512032772887e-08\n",
            "11400 2.878144478302147e-08\n",
            "11500 2.861863279690624e-08\n",
            "11600 2.8451458078393443e-08\n",
            "11700 2.8291072595720834e-08\n",
            "11800 2.8134349960851068e-08\n",
            "11900 2.7974927263585414e-08\n",
            "12000 2.7839183402988965e-08\n",
            "12100 2.771080787056235e-08\n",
            "12200 2.7586597894924125e-08\n",
            "12300 2.745999694298007e-08\n",
            "12400 2.7333827645747988e-08\n",
            "12500 2.7215778075628805e-08\n",
            "12600 2.7096238142121365e-08\n",
            "12700 2.6976215039553608e-08\n",
            "12800 2.686307176702485e-08\n",
            "12900 2.6749706449891164e-08\n",
            "13000 2.6645659900736973e-08\n",
            "13100 2.6540003972286286e-08\n",
            "13200 2.6434644695427778e-08\n",
            "13300 2.6329352920129168e-08\n",
            "13400 2.6226830485143182e-08\n",
            "13500 2.6121528051703535e-08\n",
            "13600 2.6022780375001275e-08\n",
            "13700 2.5920648738519958e-08\n",
            "13800 2.5822201266123557e-08\n",
            "13900 2.572400426004151e-08\n",
            "14000 2.5628390076803953e-08\n",
            "14100 2.5531154079772023e-08\n",
            "14200 2.5437930872840298e-08\n",
            "14300 2.5341913456600196e-08\n",
            "14400 2.5247340218470526e-08\n",
            "14500 2.5152308680276292e-08\n",
            "14600 2.5062947273113423e-08\n",
            "14700 2.4969518008788327e-08\n",
            "14800 2.487964856356939e-08\n",
            "14900 2.47871483338713e-08\n"
          ]
        }
      ]
    },
    {
      "cell_type": "code",
      "source": [
        "print(net_small[1])\n",
        "n_params = sum([np.prod(param.shape) for param in net_small[-1].parameters()])\n",
        "grad_matrix_ranks = compute_grad_matrix_ranks(net_small, x[:n_params], l0_threshold_grad_matrix)\n",
        "plt.plot(grad_matrix_ranks)\n",
        "# for i in range(m):\n",
        "#   plt.xlim(0, 400)\n",
        "#   plt.ylim(0, 0.15)\n",
        "#   plt.plot(norm_small[::10, 0, i])\n",
        "#   plt.title('lr={0}'.format(lr_small))\n",
        "  #plt.plot(log2[::10, 1, i])"
      ],
      "metadata": {
        "colab": {
          "base_uri": "https://localhost:8080/",
          "height": 519
        },
        "id": "5tExVPyI8noG",
        "outputId": "c632baad-3d9a-48ec-bfb8-20f345b6bbb4"
      },
      "execution_count": 37,
      "outputs": [
        {
          "output_type": "stream",
          "name": "stdout",
          "text": [
            "TwoLayerNN(\n",
            "  (fc1): Linear(in_features=2, out_features=30, bias=False)\n",
            "  (fc2): Linear(in_features=30, out_features=1, bias=False)\n",
            ")\n"
          ]
        },
        {
          "output_type": "execute_result",
          "data": {
            "text/plain": [
              "[<matplotlib.lines.Line2D at 0x799de33df400>]"
            ]
          },
          "metadata": {},
          "execution_count": 37
        },
        {
          "output_type": "display_data",
          "data": {
            "text/plain": [
              "<Figure size 640x480 with 1 Axes>"
            ],
            "image/png": "[encoded data removed]"
          },
          "metadata": {}
        }
      ]
    },
    {
      "cell_type": "code",
      "source": [
        "print(net_large[1])\n",
        "n_params = sum([np.prod(param.shape) for param in net_large[-1].parameters()])\n",
        "grad_matrix_ranks = compute_grad_matrix_ranks(net_large, x[:n_params], l0_threshold_grad_matrix)\n",
        "plt.plot(grad_matrix_ranks)"
      ],
      "metadata": {
        "colab": {
          "base_uri": "https://localhost:8080/",
          "height": 519
        },
        "id": "bgYQejdJ_SB_",
        "outputId": "39783592-daaf-4bb3-bfd9-b655e88dfefd"
      },
      "execution_count": 38,
      "outputs": [
        {
          "output_type": "stream",
          "name": "stdout",
          "text": [
            "TwoLayerNN(\n",
            "  (fc1): Linear(in_features=2, out_features=30, bias=False)\n",
            "  (fc2): Linear(in_features=30, out_features=1, bias=False)\n",
            ")\n"
          ]
        },
        {
          "output_type": "execute_result",
          "data": {
            "text/plain": [
              "[<matplotlib.lines.Line2D at 0x799de2a8e530>]"
            ]
          },
          "metadata": {},
          "execution_count": 38
        },
        {
          "output_type": "display_data",
          "data": {
            "text/plain": [
              "<Figure size 640x480 with 1 Axes>"
            ],
            "image/png": "[encoded data removed]"
          },
          "metadata": {}
        }
      ]
    },
    {
      "cell_type": "code",
      "source": [
        "plt.plot(loss_small)\n",
        "plt.plot(loss_large)"
      ],
      "metadata": {
        "colab": {
          "base_uri": "https://localhost:8080/",
          "height": 448
        },
        "id": "Mr7MAtoqBjOR",
        "outputId": "acffe9a7-c138-4b8c-accf-cf2b95e05b0a"
      },
      "execution_count": 34,
      "outputs": [
        {
          "output_type": "execute_result",
          "data": {
            "text/plain": [
              "[<matplotlib.lines.Line2D at 0x799de7a0ef20>]"
            ]
          },
          "metadata": {},
          "execution_count": 34
        },
        {
          "output_type": "display_data",
          "data": {
            "text/plain": [
              "<Figure size 640x480 with 1 Axes>"
            ],
            "image/png": "[encoded data removed]"
          },
          "metadata": {}
        }
      ]
    }
  ]
}