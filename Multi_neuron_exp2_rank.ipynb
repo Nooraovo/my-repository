{
  "nbformat": 4,
  "nbformat_minor": 0,
  "metadata": {
    "colab": {
      "provenance": [],
      "authorship_tag": "ABX9TyO9ErYfFhdfF0obOI+xM1Nj",
      "include_colab_link": true
    },
    "kernelspec": {
      "name": "python3",
      "display_name": "Python 3"
    },
    "language_info": {
      "name": "python"
    }
  },
  "cells": [
    {
      "cell_type": "markdown",
      "metadata": {
        "id": "view-in-github",
        "colab_type": "text"
      },
      "source": [
        "<a href=\"https://colab.research.google.com/github/nooraovo/nooraovo.github.io/blob/main/Multi_neuron_exp2_rank.ipynb\" target=\"_parent\"><img src=\"https://colab.research.google.com/assets/colab-badge.svg\" alt=\"Open In Colab\"/></a>"
      ]
    },
    {
      "cell_type": "code",
      "execution_count": 1,
      "metadata": {
        "id": "QeEzgtDs6CDA"
      },
      "outputs": [],
      "source": [
        "import torch\n",
        "import torch.nn as nn\n",
        "import torch.nn.functional as F\n",
        "import numpy as np\n",
        "import matplotlib.pyplot as plt\n",
        "import copy"
      ]
    },
    {
      "cell_type": "code",
      "source": [
        "class TwoLayerNN(nn.Module):\n",
        "  def __init__(self, m, d): # fix the second layer to be half 1 and half -1\n",
        "    super().__init__()\n",
        "    self.fc1_pos = nn.Linear(d, m, bias=False)\n",
        "    self.fc1_neg = nn.Linear(d, m, bias=False)\n",
        "    self.fc2_pos = torch.ones([m, 1])\n",
        "    self.fc2_neg = -1 * torch.ones([m, 1])\n",
        "\n",
        "\n",
        "  def activation(self, x): # cubic activation\n",
        "    return x.clamp(min=0)\n",
        "\n",
        "  def forward(self, x):\n",
        "    _out_pos = self.activation(self.fc1_pos(x))\n",
        "    out_pos = torch.matmul(_out_pos, self.fc2_pos)\n",
        "\n",
        "    _out_neg = self.activation(self.fc1_neg(x))\n",
        "    out_neg = torch.matmul(_out_neg, self.fc2_neg)\n",
        "\n",
        "    return out_pos + out_neg"
      ],
      "metadata": {
        "id": "NGwpXHFR6QOn"
      },
      "execution_count": 2,
      "outputs": []
    },
    {
      "cell_type": "code",
      "source": [
        "n = 30\n",
        "D_in = 2\n",
        "D_out = 1\n",
        "m = 30\n",
        "l0_threshold_grad_matrix = 0.0001\n",
        "\n",
        "def get_data(n, d): # set data to be y * w + noise\n",
        "  y = torch.cat((torch.ones(n // 2, 1), -torch.ones(n // 2, 1)), dim=0)\n",
        "  w = torch.zeros(1, d)\n",
        "  w[0,0] = 0.3\n",
        "\n",
        "  X = torch.cat((w.repeat(n//2, 1), -w.repeat(n//2, 1)), dim=0)\n",
        "  X = X + torch.randn(X.shape)/d**0.5\n",
        "\n",
        "  return X, y"
      ],
      "metadata": {
        "id": "c_oGVV1z6y-J"
      },
      "execution_count": 3,
      "outputs": []
    },
    {
      "cell_type": "code",
      "source": [
        "x, y = get_data(n, D_in)\n",
        "model =  TwoLayerNN(m, D_in)\n",
        "optimizer = torch.optim.SGD(model.parameters(), lr=0.01, momentum=.9, weight_decay=0)\n",
        "criteria = nn.MSELoss()"
      ],
      "metadata": {
        "id": "uxulOnqs7v8w"
      },
      "execution_count": 4,
      "outputs": []
    },
    {
      "cell_type": "code",
      "source": [
        "def weights_init(m):\n",
        "  for p in m.parameters():\n",
        "    nn.init.xavier_uniform_(p, gain=.1)\n",
        "\n",
        "# def train(epochs, lr):\n",
        "#   model =  TwoLayerNN(m, D_in)\n",
        "#   model.apply(weights_init)\n",
        "#   optimizer = torch.optim.SGD(model.parameters(), lr=lr, momentum=0, weight_decay=0)\n",
        "\n",
        "#   model.train()\n",
        "#   res = []\n",
        "#   for epoch in range(epochs):\n",
        "#     output = model(x)\n",
        "#     loss = criteria(output, y)\n",
        "\n",
        "#     optimizer.zero_grad()\n",
        "#     loss.backward()\n",
        "\n",
        "#     optimizer.step()\n",
        "\n",
        "#     tmp = []\n",
        "#     flag = 0\n",
        "#     for p in model.parameters():\n",
        "#       print(np.linalg.matrix_rank(p.data.numpy()))\n",
        "#       tmp += np.linalg.matrix_rank(p.data.numpy())\n",
        "#       break;\n",
        "#       # tmp += [(p.clone().detach()**2).sum(dim=-1).numpy()]\n",
        "\n",
        "#     res += [tmp]\n",
        "#     if epoch % 100 == 0:\n",
        "#       print (epoch, loss.item())\n",
        "\n",
        "#   return np.array(res)\n",
        "def train(epochs, lr):\n",
        "  train_loss, nets_avg = [], []\n",
        "  model = TwoLayerNN(m, D_in)\n",
        "  model.apply(weights_init)\n",
        "  net, net_avg = copy.deepcopy(model), copy.deepcopy(model)\n",
        "  optimizer = torch.optim.SGD(net.parameters(), lr=lr, momentum=0, weight_decay=0)\n",
        "  net.train()\n",
        "\n",
        "  for epoch in range(epochs):\n",
        "    output = net(x)\n",
        "    loss = criteria(output, y)\n",
        "    if epoch % 100 == 0:\n",
        "      print (epoch, loss.item())\n",
        "    train_loss += [loss.item()]\n",
        "    nets_avg.append(copy.deepcopy(net))\n",
        "\n",
        "    optimizer.zero_grad()\n",
        "    loss.backward()\n",
        "\n",
        "    optimizer.step()\n",
        "\n",
        "  return train_loss, nets_avg"
      ],
      "metadata": {
        "id": "OjTRSYLJ8CJ9"
      },
      "execution_count": 5,
      "outputs": []
    },
    {
      "cell_type": "code",
      "source": [
        "def compute_grad_matrix(net, X):\n",
        "    optimizer = torch.optim.SGD(net.parameters(), lr=0.0)\n",
        "    grad_matrix_list = []\n",
        "    for i in range(X.shape[0]):\n",
        "        h = net(X[[i]])\n",
        "        optimizer.zero_grad()\n",
        "        h.backward()\n",
        "\n",
        "        grad_total_list = []\n",
        "        for param in net.parameters():\n",
        "            grad_total_list.append(param.grad.flatten().data.numpy())\n",
        "        grad_total = np.concatenate(grad_total_list)\n",
        "        grad_matrix_list.append(grad_total)\n",
        "\n",
        "    grad_matrix = np.vstack(grad_matrix_list)\n",
        "    return grad_matrix\n",
        "\n",
        "def compute_grad_matrix_ranks(nets, X, l0_threshold_grad_matrix=0.0001):\n",
        "    n_params = sum([np.prod(param.shape) for param in nets[-1].parameters()])\n",
        "    X_eval = X[:n_params]\n",
        "    grad_matrix_ranks = []\n",
        "    for net in nets:\n",
        "        svals = np.linalg.svd(compute_grad_matrix(net, X_eval))[1]\n",
        "        rank = (svals / svals[0] > l0_threshold_grad_matrix).sum()\n",
        "        grad_matrix_ranks.append(rank)\n",
        "    return grad_matrix_ranks"
      ],
      "metadata": {
        "id": "qinrjBIL8luz"
      },
      "execution_count": 6,
      "outputs": []
    },
    {
      "cell_type": "code",
      "source": [
        "lr_small = 0.00005\n",
        "loss_small, net_small = train(15000, lr=lr_small)"
      ],
      "metadata": {
        "colab": {
          "base_uri": "https://localhost:8080/"
        },
        "id": "rjFja4oI8Kcr",
        "outputId": "775e66f8-df32-41d2-c1f3-dc6c28645ece"
      },
      "execution_count": 14,
      "outputs": [
        {
          "output_type": "stream",
          "name": "stdout",
          "text": [
            "0 1.040345311164856\n",
            "100 1.0009608268737793\n",
            "200 0.9662190079689026\n",
            "300 0.9355652928352356\n",
            "400 0.9091150760650635\n",
            "500 0.8859449028968811\n",
            "600 0.8659864068031311\n",
            "700 0.8487323522567749\n",
            "800 0.8332633376121521\n",
            "900 0.8193012475967407\n",
            "1000 0.8071600198745728\n",
            "1100 0.796528697013855\n",
            "1200 0.7869434952735901\n",
            "1300 0.7784439921379089\n",
            "1400 0.7710964679718018\n",
            "1500 0.7643677592277527\n",
            "1600 0.7582805752754211\n",
            "1700 0.7527312636375427\n",
            "1800 0.7474063038825989\n",
            "1900 0.7425926923751831\n",
            "2000 0.7383500337600708\n",
            "2100 0.7345048785209656\n",
            "2200 0.7309257388114929\n",
            "2300 0.7274712324142456\n",
            "2400 0.7243223786354065\n",
            "2500 0.7215753197669983\n",
            "2600 0.719146728515625\n",
            "2700 0.716978907585144\n",
            "2800 0.7149377465248108\n",
            "2900 0.7130550146102905\n",
            "3000 0.711257815361023\n",
            "3100 0.7096096277236938\n",
            "3200 0.7080762982368469\n",
            "3300 0.7066910266876221\n",
            "3400 0.705403745174408\n",
            "3500 0.704191267490387\n",
            "3600 0.7030691504478455\n",
            "3700 0.7020428776741028\n",
            "3800 0.701087236404419\n",
            "3900 0.7001808285713196\n",
            "4000 0.6993135809898376\n",
            "4100 0.6984831690788269\n",
            "4200 0.6976938247680664\n",
            "4300 0.6969677209854126\n",
            "4400 0.6962571740150452\n",
            "4500 0.6955665946006775\n",
            "4600 0.6949043273925781\n",
            "4700 0.6942840814590454\n",
            "4800 0.6936852931976318\n",
            "4900 0.6931244134902954\n",
            "5000 0.6925860643386841\n",
            "5100 0.6920772194862366\n",
            "5200 0.6916011571884155\n",
            "5300 0.6911604404449463\n",
            "5400 0.690747857093811\n",
            "5500 0.6903465390205383\n",
            "5600 0.6899557113647461\n",
            "5700 0.6895769834518433\n",
            "5800 0.6892094016075134\n",
            "5900 0.6888572573661804\n",
            "6000 0.6885150074958801\n",
            "6100 0.6881904602050781\n",
            "6200 0.6878784894943237\n",
            "6300 0.6875726580619812\n",
            "6400 0.6872701048851013\n",
            "6500 0.6869737505912781\n",
            "6600 0.6866831183433533\n",
            "6700 0.6863983273506165\n",
            "6800 0.686128556728363\n",
            "6900 0.6858726739883423\n",
            "7000 0.6856276392936707\n",
            "7100 0.6853997111320496\n",
            "7200 0.6851715445518494\n",
            "7300 0.6849455237388611\n",
            "7400 0.684707760810852\n",
            "7500 0.6844717264175415\n",
            "7600 0.6842402219772339\n",
            "7700 0.6840130686759949\n",
            "7800 0.6837896704673767\n",
            "7900 0.6835704445838928\n",
            "8000 0.6833547353744507\n",
            "8100 0.6831427812576294\n",
            "8200 0.6829345226287842\n",
            "8300 0.6827433109283447\n",
            "8400 0.6825662851333618\n",
            "8500 0.6823919415473938\n",
            "8600 0.6822201609611511\n",
            "8700 0.682050883769989\n",
            "8800 0.6819010376930237\n",
            "8900 0.6817648410797119\n",
            "9000 0.6816447973251343\n",
            "9100 0.6815269589424133\n",
            "9200 0.6814109683036804\n",
            "9300 0.6812963485717773\n",
            "9400 0.6811834573745728\n",
            "9500 0.6810721755027771\n",
            "9600 0.6809629797935486\n",
            "9700 0.6808550953865051\n",
            "9800 0.6807484030723572\n",
            "9900 0.6806432008743286\n",
            "10000 0.6805391907691956\n",
            "10100 0.6804363131523132\n",
            "10200 0.6803346276283264\n",
            "10300 0.6802342534065247\n",
            "10400 0.680134654045105\n",
            "10500 0.6800372004508972\n",
            "10600 0.6799410581588745\n",
            "10700 0.6798455119132996\n",
            "10800 0.6797510385513306\n",
            "10900 0.6796579957008362\n",
            "11000 0.679576575756073\n",
            "11100 0.6794999241828918\n",
            "11200 0.6794244050979614\n",
            "11300 0.6793501973152161\n",
            "11400 0.6792766451835632\n",
            "11500 0.679203987121582\n",
            "11600 0.6791322827339172\n",
            "11700 0.6790570616722107\n",
            "11800 0.6789793372154236\n",
            "11900 0.6789023280143738\n",
            "12000 0.6788260340690613\n",
            "12100 0.6787499785423279\n",
            "12200 0.6786752343177795\n",
            "12300 0.6786006093025208\n",
            "12400 0.6785269379615784\n",
            "12500 0.6784537434577942\n",
            "12600 0.6783839464187622\n",
            "12700 0.6783148050308228\n",
            "12800 0.678246259689331\n",
            "12900 0.6781787276268005\n",
            "13000 0.6781118512153625\n",
            "13100 0.6780454516410828\n",
            "13200 0.6779796481132507\n",
            "13300 0.6779139637947083\n",
            "13400 0.6778490543365479\n",
            "13500 0.6777845621109009\n",
            "13600 0.6777204871177673\n",
            "13700 0.6776568293571472\n",
            "13800 0.6775934100151062\n",
            "13900 0.6775304079055786\n",
            "14000 0.6774680018424988\n",
            "14100 0.6774107813835144\n",
            "14200 0.6773545742034912\n",
            "14300 0.6773035526275635\n",
            "14400 0.6772534251213074\n",
            "14500 0.6772038340568542\n",
            "14600 0.6771548986434937\n",
            "14700 0.6771060824394226\n",
            "14800 0.6770580410957336\n",
            "14900 0.6770104765892029\n"
          ]
        }
      ]
    },
    {
      "cell_type": "code",
      "source": [
        "lr_large = 0.03\n",
        "loss_large, net_large = train(15000, lr=lr_large)"
      ],
      "metadata": {
        "colab": {
          "base_uri": "https://localhost:8080/"
        },
        "id": "T1-Kq1-7lDTI",
        "outputId": "e112bc5d-21fb-49c5-924e-002f8990275a"
      },
      "execution_count": 15,
      "outputs": [
        {
          "output_type": "stream",
          "name": "stdout",
          "text": [
            "0 0.9946977496147156\n",
            "100 0.6625450849533081\n",
            "200 0.6528781652450562\n",
            "300 0.6451956629753113\n",
            "400 0.6389132738113403\n",
            "500 0.6336653828620911\n",
            "600 0.6292798519134521\n",
            "700 0.62437903881073\n",
            "800 0.6208186745643616\n",
            "900 0.6176680326461792\n",
            "1000 0.6140176653862\n",
            "1100 0.6112136244773865\n",
            "1200 0.6086589097976685\n",
            "1300 0.6062461137771606\n",
            "1400 0.603923499584198\n",
            "1500 0.601686418056488\n",
            "1600 0.5995810031890869\n",
            "1700 0.5975491404533386\n",
            "1800 0.5956249833106995\n",
            "1900 0.5936166048049927\n",
            "2000 0.59169602394104\n",
            "2100 0.5897868871688843\n",
            "2200 0.5880884528160095\n",
            "2300 0.5864726901054382\n",
            "2400 0.5849496722221375\n",
            "2500 0.5835134983062744\n",
            "2600 0.5821705460548401\n",
            "2700 0.5808781981468201\n",
            "2800 0.5796748995780945\n",
            "2900 0.5785329937934875\n",
            "3000 0.577449381351471\n",
            "3100 0.5764532089233398\n",
            "3200 0.57547926902771\n",
            "3300 0.5745237469673157\n",
            "3400 0.5736265778541565\n",
            "3500 0.5727291703224182\n",
            "3600 0.5718889236450195\n",
            "3700 0.5710819363594055\n",
            "3800 0.5702654123306274\n",
            "3900 0.5695183873176575\n",
            "4000 0.5687543749809265\n",
            "4100 0.5680528879165649\n",
            "4200 0.5673436522483826\n",
            "4300 0.5666570067405701\n",
            "4400 0.5660103559494019\n",
            "4500 0.5653531551361084\n",
            "4600 0.564735472202301\n",
            "4700 0.564137876033783\n",
            "4800 0.563545286655426\n",
            "4900 0.5629528164863586\n",
            "5000 0.5623827576637268\n",
            "5100 0.561846911907196\n",
            "5200 0.5613193511962891\n",
            "5300 0.5608030557632446\n",
            "5400 0.560293436050415\n",
            "5500 0.5597976446151733\n",
            "5600 0.5593096613883972\n",
            "5700 0.558830976486206\n",
            "5800 0.5583650469779968\n",
            "5900 0.5579124689102173\n",
            "6000 0.5574654936790466\n",
            "6100 0.5569940209388733\n",
            "6200 0.5565522313117981\n",
            "6300 0.5561355352401733\n",
            "6400 0.5557228326797485\n",
            "6500 0.5552777051925659\n",
            "6600 0.554875373840332\n",
            "6700 0.5544821619987488\n",
            "6800 0.554050862789154\n",
            "6900 0.5536684393882751\n",
            "7000 0.5532875061035156\n",
            "7100 0.5528766512870789\n",
            "7200 0.5525087714195251\n",
            "7300 0.5521501302719116\n",
            "7400 0.5517576932907104\n",
            "7500 0.5513853430747986\n",
            "7600 0.5510345697402954\n",
            "7700 0.5506849884986877\n",
            "7800 0.5503435134887695\n",
            "7900 0.549999475479126\n",
            "8000 0.5496571660041809\n",
            "8100 0.5493185520172119\n",
            "8200 0.5489813089370728\n",
            "8300 0.5486404299736023\n",
            "8400 0.5483109951019287\n",
            "8500 0.5479879975318909\n",
            "8600 0.5477010011672974\n",
            "8700 0.5473653674125671\n",
            "8800 0.5470772981643677\n",
            "8900 0.546755850315094\n",
            "9000 0.5464766621589661\n",
            "9100 0.5461679100990295\n",
            "9200 0.5458700060844421\n",
            "9300 0.545589029788971\n",
            "9400 0.5453104376792908\n",
            "9500 0.5450330376625061\n",
            "9600 0.544757068157196\n",
            "9700 0.5444797873497009\n",
            "9800 0.5442162752151489\n",
            "9900 0.5439773797988892\n",
            "10000 0.5436980724334717\n",
            "10100 0.5434415936470032\n",
            "10200 0.5431912541389465\n",
            "10300 0.5429516434669495\n",
            "10400 0.5426901578903198\n",
            "10500 0.5424548983573914\n",
            "10600 0.542226254940033\n",
            "10700 0.5419988036155701\n",
            "10800 0.5417641401290894\n",
            "10900 0.5415366291999817\n",
            "11000 0.541297197341919\n",
            "11100 0.5410695672035217\n",
            "11200 0.5408442616462708\n",
            "11300 0.5406482815742493\n",
            "11400 0.5404194593429565\n",
            "11500 0.5402075052261353\n",
            "11600 0.5400005578994751\n",
            "11700 0.5398043394088745\n",
            "11800 0.5395870208740234\n",
            "11900 0.5393908023834229\n",
            "12000 0.5392056107521057\n",
            "12100 0.5390133261680603\n",
            "12200 0.5388158559799194\n",
            "12300 0.5386296510696411\n",
            "12400 0.5384390950202942\n",
            "12500 0.5382420420646667\n",
            "12600 0.5380554795265198\n",
            "12700 0.537886917591095\n",
            "12800 0.5377023816108704\n",
            "12900 0.537527859210968\n",
            "13000 0.5373525619506836\n",
            "13100 0.5371928811073303\n",
            "13200 0.5370112061500549\n",
            "13300 0.5368413329124451\n",
            "13400 0.5366795659065247\n",
            "13500 0.5365180969238281\n",
            "13600 0.5363573431968689\n",
            "13700 0.5361979007720947\n",
            "13800 0.5360385179519653\n",
            "13900 0.5358981490135193\n",
            "14000 0.5357385873794556\n",
            "14100 0.5355874300003052\n",
            "14200 0.5354394316673279\n",
            "14300 0.5353042483329773\n",
            "14400 0.5351589322090149\n",
            "14500 0.535015881061554\n",
            "14600 0.5348750352859497\n",
            "14700 0.5347407460212708\n",
            "14800 0.5345944166183472\n",
            "14900 0.5344592928886414\n"
          ]
        }
      ]
    },
    {
      "cell_type": "code",
      "source": [
        "print(net_small[1])\n",
        "n_params = sum([np.prod(param.shape) for param in net_small[-1].parameters()])\n",
        "grad_matrix_ranks = compute_grad_matrix_ranks(net_small, x[:n_params], l0_threshold_grad_matrix)\n",
        "plt.plot(grad_matrix_ranks)\n",
        "# for i in range(m):\n",
        "#   plt.xlim(0, 400)\n",
        "#   plt.ylim(0, 0.15)\n",
        "#   plt.plot(norm_small[::10, 0, i])\n",
        "#   plt.title('lr={0}'.format(lr_small))\n",
        "  #plt.plot(log2[::10, 1, i])"
      ],
      "metadata": {
        "colab": {
          "base_uri": "https://localhost:8080/",
          "height": 519
        },
        "id": "5tExVPyI8noG",
        "outputId": "6126bf51-8fb3-469c-918c-3e70fd7f6763"
      },
      "execution_count": 16,
      "outputs": [
        {
          "output_type": "stream",
          "name": "stdout",
          "text": [
            "TwoLayerNN(\n",
            "  (fc1_pos): Linear(in_features=2, out_features=30, bias=False)\n",
            "  (fc1_neg): Linear(in_features=2, out_features=30, bias=False)\n",
            ")\n"
          ]
        },
        {
          "output_type": "execute_result",
          "data": {
            "text/plain": [
              "[<matplotlib.lines.Line2D at 0x7b1464642560>]"
            ]
          },
          "metadata": {},
          "execution_count": 16
        },
        {
          "output_type": "display_data",
          "data": {
            "text/plain": [
              "<Figure size 640x480 with 1 Axes>"
            ],
            "image/png": "[encoded data removed]"
          },
          "metadata": {}
        }
      ]
    },
    {
      "cell_type": "code",
      "source": [
        "print(net_large[1])\n",
        "n_params = sum([np.prod(param.shape) for param in net_large[-1].parameters()])\n",
        "grad_matrix_ranks = compute_grad_matrix_ranks(net_large, x[:n_params], l0_threshold_grad_matrix)\n",
        "plt.plot(grad_matrix_ranks)"
      ],
      "metadata": {
        "colab": {
          "base_uri": "https://localhost:8080/",
          "height": 519
        },
        "id": "bgYQejdJ_SB_",
        "outputId": "68d35280-4026-4392-8dd0-b9efa8bdd6de"
      },
      "execution_count": 17,
      "outputs": [
        {
          "output_type": "stream",
          "name": "stdout",
          "text": [
            "TwoLayerNN(\n",
            "  (fc1_pos): Linear(in_features=2, out_features=30, bias=False)\n",
            "  (fc1_neg): Linear(in_features=2, out_features=30, bias=False)\n",
            ")\n"
          ]
        },
        {
          "output_type": "execute_result",
          "data": {
            "text/plain": [
              "[<matplotlib.lines.Line2D at 0x7b1461a6e320>]"
            ]
          },
          "metadata": {},
          "execution_count": 17
        },
        {
          "output_type": "display_data",
          "data": {
            "text/plain": [
              "<Figure size 640x480 with 1 Axes>"
            ],
            "image/png": "[encoded data removed]"
          },
          "metadata": {}
        }
      ]
    },
    {
      "cell_type": "code",
      "source": [
        "plt.plot(loss_small)\n",
        "plt.plot(loss_large)"
      ],
      "metadata": {
        "colab": {
          "base_uri": "https://localhost:8080/",
          "height": 448
        },
        "id": "Mr7MAtoqBjOR",
        "outputId": "fa6c29e4-1a9c-4b0c-f3a0-1aaeac15493e"
      },
      "execution_count": 18,
      "outputs": [
        {
          "output_type": "execute_result",
          "data": {
            "text/plain": [
              "[<matplotlib.lines.Line2D at 0x7b1465586740>]"
            ]
          },
          "metadata": {},
          "execution_count": 18
        },
        {
          "output_type": "display_data",
          "data": {
            "text/plain": [
              "<Figure size 640x480 with 1 Axes>"
            ],
            "image/png": "[encoded data removed]"
          },
          "metadata": {}
        }
      ]
    }
  ]
}