{
  "nbformat": 4,
  "nbformat_minor": 0,
  "metadata": {
    "colab": {
      "provenance": [],
      "authorship_tag": "ABX9TyMANBvqwF7tz06x1kJQMh/1",
      "include_colab_link": true
    },
    "kernelspec": {
      "name": "python3",
      "display_name": "Python 3"
    },
    "language_info": {
      "name": "python"
    }
  },
  "cells": [
    {
      "cell_type": "markdown",
      "metadata": {
        "id": "view-in-github",
        "colab_type": "text"
      },
      "source": [
        "<a href=\"https://colab.research.google.com/github/nooraovo/nooraovo.github.io/blob/main/Multi_neuron_exp2_rank.ipynb\" target=\"_parent\"><img src=\"https://colab.research.google.com/assets/colab-badge.svg\" alt=\"Open In Colab\"/></a>"
      ]
    },
    {
      "cell_type": "code",
      "execution_count": 1,
      "metadata": {
        "id": "QeEzgtDs6CDA"
      },
      "outputs": [],
      "source": [
        "import torch\n",
        "import torch.nn as nn\n",
        "import torch.nn.functional as F\n",
        "import numpy as np\n",
        "import matplotlib.pyplot as plt\n",
        "import copy"
      ]
    },
    {
      "cell_type": "code",
      "source": [
        "class TwoLayerNN(nn.Module):\n",
        "  def __init__(self, m, d): # fix the second layer to be half 1 and half -1\n",
        "    super().__init__()\n",
        "    self.fc1_pos = nn.Linear(d, m, bias=False)\n",
        "    self.fc1_neg = nn.Linear(d, m, bias=False)\n",
        "    self.fc2_pos = torch.ones([m, 1])\n",
        "    self.fc2_neg = -1 * torch.ones([m, 1])\n",
        "\n",
        "\n",
        "  def activation(self, x): # cubic activation\n",
        "    return x.clamp(min=0)\n",
        "\n",
        "  def forward(self, x):\n",
        "    _out_pos = self.activation(self.fc1_pos(x))\n",
        "    out_pos = torch.matmul(_out_pos, self.fc2_pos)\n",
        "\n",
        "    _out_neg = self.activation(self.fc1_neg(x))\n",
        "    out_neg = torch.matmul(_out_neg, self.fc2_neg)\n",
        "\n",
        "    return out_pos + out_neg"
      ],
      "metadata": {
        "id": "NGwpXHFR6QOn"
      },
      "execution_count": 2,
      "outputs": []
    },
    {
      "cell_type": "code",
      "source": [
        "n = 30\n",
        "D_in = 2\n",
        "D_out = 1\n",
        "m = 30\n",
        "l0_threshold_grad_matrix = 0.0001\n",
        "\n",
        "def get_data(n, d): # set data to be y * w + noise\n",
        "  y = torch.cat((torch.ones(n // 2, 1), -torch.ones(n // 2, 1)), dim=0)\n",
        "  w = torch.zeros(1, d)\n",
        "  w[0,0] = 0.3\n",
        "\n",
        "  X = torch.cat((w.repeat(n//2, 1), -w.repeat(n//2, 1)), dim=0)\n",
        "  X = X + torch.randn(X.shape)/d**0.5\n",
        "\n",
        "  return X, y"
      ],
      "metadata": {
        "id": "c_oGVV1z6y-J"
      },
      "execution_count": 3,
      "outputs": []
    },
    {
      "cell_type": "code",
      "source": [
        "x, y = get_data(n, D_in)\n",
        "model =  TwoLayerNN(m, D_in)\n",
        "optimizer = torch.optim.SGD(model.parameters(), lr=0.01, momentum=.9, weight_decay=0)\n",
        "criteria = nn.MSELoss()"
      ],
      "metadata": {
        "id": "uxulOnqs7v8w"
      },
      "execution_count": 4,
      "outputs": []
    },
    {
      "cell_type": "code",
      "source": [
        "def weights_init(m):\n",
        "  for p in m.parameters():\n",
        "    nn.init.xavier_uniform_(p, gain=.1)\n",
        "\n",
        "# def train(epochs, lr):\n",
        "#   model =  TwoLayerNN(m, D_in)\n",
        "#   model.apply(weights_init)\n",
        "#   optimizer = torch.optim.SGD(model.parameters(), lr=lr, momentum=0, weight_decay=0)\n",
        "\n",
        "#   model.train()\n",
        "#   res = []\n",
        "#   for epoch in range(epochs):\n",
        "#     output = model(x)\n",
        "#     loss = criteria(output, y)\n",
        "\n",
        "#     optimizer.zero_grad()\n",
        "#     loss.backward()\n",
        "\n",
        "#     optimizer.step()\n",
        "\n",
        "#     tmp = []\n",
        "#     flag = 0\n",
        "#     for p in model.parameters():\n",
        "#       print(np.linalg.matrix_rank(p.data.numpy()))\n",
        "#       tmp += np.linalg.matrix_rank(p.data.numpy())\n",
        "#       break;\n",
        "#       # tmp += [(p.clone().detach()**2).sum(dim=-1).numpy()]\n",
        "\n",
        "#     res += [tmp]\n",
        "#     if epoch % 100 == 0:\n",
        "#       print (epoch, loss.item())\n",
        "\n",
        "#   return np.array(res)\n",
        "def train(epochs, lr):\n",
        "  train_loss, nets_avg = [], []\n",
        "  model = TwoLayerNN(m, D_in)\n",
        "  model.apply(weights_init)\n",
        "  net, net_avg = copy.deepcopy(model), copy.deepcopy(model)\n",
        "  optimizer = torch.optim.SGD(net.parameters(), lr=lr, momentum=0, weight_decay=0)\n",
        "  net.train()\n",
        "\n",
        "  for epoch in range(epochs):\n",
        "    output = net(x)\n",
        "    loss = criteria(output, y)\n",
        "    if epoch % 100 == 0:\n",
        "      print (epoch, loss.item())\n",
        "    train_loss += [loss.item()]\n",
        "    nets_avg.append(copy.deepcopy(net))\n",
        "\n",
        "    optimizer.zero_grad()\n",
        "    loss.backward()\n",
        "\n",
        "    optimizer.step()\n",
        "\n",
        "  return train_loss, nets_avg"
      ],
      "metadata": {
        "id": "OjTRSYLJ8CJ9"
      },
      "execution_count": 5,
      "outputs": []
    },
    {
      "cell_type": "code",
      "source": [
        "def compute_grad_matrix(net, X):\n",
        "    optimizer = torch.optim.SGD(net.parameters(), lr=0.0)\n",
        "    grad_matrix_list = []\n",
        "    for i in range(X.shape[0]):\n",
        "        h = net(X[[i]])\n",
        "        optimizer.zero_grad()\n",
        "        h.backward()\n",
        "\n",
        "        grad_total_list = []\n",
        "        for param in net.parameters():\n",
        "            grad_total_list.append(param.grad.flatten().data.numpy())\n",
        "        grad_total = np.concatenate(grad_total_list)\n",
        "        grad_matrix_list.append(grad_total)\n",
        "\n",
        "    grad_matrix = np.vstack(grad_matrix_list)\n",
        "    return grad_matrix\n",
        "\n",
        "def compute_grad_matrix_ranks(nets, X, l0_threshold_grad_matrix=0.0001):\n",
        "    n_params = sum([np.prod(param.shape) for param in nets[-1].parameters()])\n",
        "    X_eval = X[:n_params]\n",
        "    grad_matrix_ranks = []\n",
        "    for net in nets:\n",
        "        svals = np.linalg.svd(compute_grad_matrix(net, X_eval))[1]\n",
        "        rank = (svals / svals[0] > l0_threshold_grad_matrix).sum()\n",
        "        grad_matrix_ranks.append(rank)\n",
        "    return grad_matrix_ranks"
      ],
      "metadata": {
        "id": "qinrjBIL8luz"
      },
      "execution_count": 6,
      "outputs": []
    },
    {
      "cell_type": "code",
      "source": [
        "lr_small = 0.005\n",
        "loss_small, net_small = train(15000, lr=lr_small)"
      ],
      "metadata": {
        "colab": {
          "base_uri": "https://localhost:8080/"
        },
        "id": "rjFja4oI8Kcr",
        "outputId": "3a34ba9c-f99f-42ca-e825-05fa175f08b1"
      },
      "execution_count": 7,
      "outputs": [
        {
          "output_type": "stream",
          "name": "stdout",
          "text": [
            "0 0.9850605130195618\n",
            "100 0.6828123927116394\n",
            "200 0.6727746725082397\n",
            "300 0.6689972281455994\n",
            "400 0.6665168404579163\n",
            "500 0.6646836996078491\n",
            "600 0.6630426049232483\n",
            "700 0.6616120934486389\n",
            "800 0.6602073907852173\n",
            "900 0.658933699131012\n",
            "1000 0.6576400399208069\n",
            "1100 0.6563987135887146\n",
            "1200 0.6552402377128601\n",
            "1300 0.6540471911430359\n",
            "1400 0.6529228091239929\n",
            "1500 0.6518304347991943\n",
            "1600 0.6507378220558167\n",
            "1700 0.6496838927268982\n",
            "1800 0.6486661434173584\n",
            "1900 0.6476524472236633\n",
            "2000 0.6466951966285706\n",
            "2100 0.6457049250602722\n",
            "2200 0.6447791457176208\n",
            "2300 0.6438501477241516\n",
            "2400 0.642968475818634\n",
            "2500 0.6420822143554688\n",
            "2600 0.6411951184272766\n",
            "2700 0.6403654217720032\n",
            "2800 0.6395372152328491\n",
            "2900 0.6387234330177307\n",
            "3000 0.6379057765007019\n",
            "3100 0.6371253728866577\n",
            "3200 0.6363603472709656\n",
            "3300 0.6356183290481567\n",
            "3400 0.6348907947540283\n",
            "3500 0.634197473526001\n",
            "3600 0.6334818601608276\n",
            "3700 0.6327853798866272\n",
            "3800 0.6321258544921875\n",
            "3900 0.6314622759819031\n",
            "4000 0.6308224201202393\n",
            "4100 0.630171000957489\n",
            "4200 0.6295483708381653\n",
            "4300 0.6289408206939697\n",
            "4400 0.6283605098724365\n",
            "4500 0.6277567148208618\n",
            "4600 0.6271997094154358\n",
            "4700 0.6266350150108337\n",
            "4800 0.6260716915130615\n",
            "4900 0.6255571842193604\n",
            "5000 0.6250276565551758\n",
            "5100 0.6245148181915283\n",
            "5200 0.6240269541740417\n",
            "5300 0.6235189437866211\n",
            "5400 0.6230469942092896\n",
            "5500 0.6225937604904175\n",
            "5600 0.6221120953559875\n",
            "5700 0.6216598749160767\n",
            "5800 0.6212113499641418\n",
            "5900 0.6207832098007202\n",
            "6000 0.6203565001487732\n",
            "6100 0.6199461817741394\n",
            "6200 0.6195275187492371\n",
            "6300 0.6191198229789734\n",
            "6400 0.61873859167099\n",
            "6500 0.6183550357818604\n",
            "6600 0.6179794669151306\n",
            "6700 0.6175917983055115\n",
            "6800 0.6172330379486084\n",
            "6900 0.6168630123138428\n",
            "7000 0.6165257096290588\n",
            "7100 0.6161726117134094\n",
            "7200 0.6158239841461182\n",
            "7300 0.615488588809967\n",
            "7400 0.615168035030365\n",
            "7500 0.6148468852043152\n",
            "7600 0.6145293116569519\n",
            "7700 0.6142017841339111\n",
            "7800 0.6139081120491028\n",
            "7900 0.6136071681976318\n",
            "8000 0.6133070588111877\n",
            "8100 0.6126529574394226\n",
            "8200 0.6123197078704834\n",
            "8300 0.6120322942733765\n",
            "8400 0.6117420792579651\n",
            "8500 0.6114537119865417\n",
            "8600 0.6111722588539124\n",
            "8700 0.6108937859535217\n",
            "8800 0.6106182336807251\n",
            "8900 0.6103487014770508\n",
            "9000 0.6100737452507019\n",
            "9100 0.6094130277633667\n",
            "9200 0.6091204881668091\n",
            "9300 0.6088503003120422\n",
            "9400 0.6085981726646423\n",
            "9500 0.6083338856697083\n",
            "9600 0.6080667972564697\n",
            "9700 0.6078299880027771\n",
            "9800 0.6075724363327026\n",
            "9900 0.6073259115219116\n",
            "10000 0.6070652008056641\n",
            "10100 0.6068329215049744\n",
            "10200 0.6065965890884399\n",
            "10300 0.6063531637191772\n",
            "10400 0.6061165928840637\n",
            "10500 0.6058771014213562\n",
            "10600 0.6056481003761292\n",
            "10700 0.6054199934005737\n",
            "10800 0.6051912307739258\n",
            "10900 0.6049774885177612\n",
            "11000 0.6043451428413391\n",
            "11100 0.6039978861808777\n",
            "11200 0.6037775278091431\n",
            "11300 0.603546679019928\n",
            "11400 0.6033276915550232\n",
            "11500 0.6031054854393005\n",
            "11600 0.6028832793235779\n",
            "11700 0.6026685833930969\n",
            "11800 0.602459192276001\n",
            "11900 0.6022427082061768\n",
            "12000 0.6020275354385376\n",
            "12100 0.6018179059028625\n",
            "12200 0.6016061902046204\n",
            "12300 0.6014012098312378\n",
            "12400 0.601199209690094\n",
            "12500 0.6010000705718994\n",
            "12600 0.6007859110832214\n",
            "12700 0.6001654267311096\n",
            "12800 0.5998271703720093\n",
            "12900 0.5996046662330627\n",
            "13000 0.5994091033935547\n",
            "13100 0.599198043346405\n",
            "13200 0.599010705947876\n",
            "13300 0.5988084673881531\n",
            "13400 0.5986056923866272\n",
            "13500 0.5984181761741638\n",
            "13600 0.5982267260551453\n",
            "13700 0.5980284810066223\n",
            "13800 0.5978385210037231\n",
            "13900 0.5976463556289673\n",
            "14000 0.597449541091919\n",
            "14100 0.5972629189491272\n",
            "14200 0.5970799922943115\n",
            "14300 0.5968190431594849\n",
            "14400 0.596197247505188\n",
            "14500 0.5959282517433167\n",
            "14600 0.5957377552986145\n",
            "14700 0.5955588221549988\n",
            "14800 0.5953802466392517\n",
            "14900 0.5951829552650452\n"
          ]
        }
      ]
    },
    {
      "cell_type": "code",
      "source": [
        "lr_large = 0.03\n",
        "loss_large, net_large = train(15000, lr=lr_large)"
      ],
      "metadata": {
        "colab": {
          "base_uri": "https://localhost:8080/"
        },
        "id": "T1-Kq1-7lDTI",
        "outputId": "a54107d7-2cfc-4062-b969-bf897227aaaa"
      },
      "execution_count": 9,
      "outputs": [
        {
          "output_type": "stream",
          "name": "stdout",
          "text": [
            "0 1.0234543085098267\n",
            "100 0.6665172576904297\n",
            "200 0.6596493124961853\n",
            "300 0.6537098288536072\n",
            "400 0.6484884023666382\n",
            "500 0.6438470482826233\n",
            "600 0.639806866645813\n",
            "700 0.6356633901596069\n",
            "800 0.6316277980804443\n",
            "900 0.6284724473953247\n",
            "1000 0.6255511045455933\n",
            "1100 0.6228771209716797\n",
            "1200 0.6203665137290955\n",
            "1300 0.6180222034454346\n",
            "1400 0.6157999634742737\n",
            "1500 0.6137160062789917\n",
            "1600 0.6117174029350281\n",
            "1700 0.6097683310508728\n",
            "1800 0.6079423427581787\n",
            "1900 0.6061453223228455\n",
            "2000 0.6041027307510376\n",
            "2100 0.6022549867630005\n",
            "2200 0.600469172000885\n",
            "2300 0.5987393856048584\n",
            "2400 0.597132682800293\n",
            "2500 0.5955647826194763\n",
            "2600 0.5940268039703369\n",
            "2700 0.5926560163497925\n",
            "2800 0.5912787914276123\n",
            "2900 0.5900266170501709\n",
            "3000 0.5887756943702698\n",
            "3100 0.5876381993293762\n",
            "3200 0.5864922404289246\n",
            "3300 0.5854006409645081\n",
            "3400 0.5843067169189453\n",
            "3500 0.5832895040512085\n",
            "3600 0.5822046399116516\n",
            "3700 0.58125901222229\n",
            "3800 0.5802292227745056\n",
            "3900 0.5792995095252991\n",
            "4000 0.5783900618553162\n",
            "4100 0.5774462819099426\n",
            "4200 0.5765767693519592\n",
            "4300 0.5756605267524719\n",
            "4400 0.5748541355133057\n",
            "4500 0.5740145444869995\n",
            "4600 0.5730570554733276\n",
            "4700 0.5721739530563354\n",
            "4800 0.5713765025138855\n",
            "4900 0.5706154704093933\n",
            "5000 0.569890558719635\n",
            "5100 0.5691727995872498\n",
            "5200 0.5684608817100525\n",
            "5300 0.5677650570869446\n",
            "5400 0.5670997500419617\n",
            "5500 0.5664127469062805\n",
            "5600 0.5657430291175842\n",
            "5700 0.5651660561561584\n",
            "5800 0.5644955039024353\n",
            "5900 0.5639428496360779\n",
            "6000 0.5633133053779602\n",
            "6100 0.5627403259277344\n",
            "6200 0.5621938705444336\n",
            "6300 0.5616607666015625\n",
            "6400 0.5611077547073364\n",
            "6500 0.5605669021606445\n",
            "6600 0.560043454170227\n",
            "6700 0.5595505833625793\n",
            "6800 0.5590692758560181\n",
            "6900 0.5585721135139465\n",
            "7000 0.5580671429634094\n",
            "7100 0.5575858950614929\n",
            "7200 0.5571672320365906\n",
            "7300 0.5567017793655396\n",
            "7400 0.5562393069267273\n",
            "7500 0.5558273792266846\n",
            "7600 0.5553815960884094\n",
            "7700 0.5549810528755188\n",
            "7800 0.5545927882194519\n",
            "7900 0.5541556477546692\n",
            "8000 0.5537696480751038\n",
            "8100 0.5534054040908813\n",
            "8200 0.5530140995979309\n",
            "8300 0.5526239275932312\n",
            "8400 0.5522588491439819\n",
            "8500 0.551899254322052\n",
            "8600 0.551538348197937\n",
            "8700 0.5511974692344666\n",
            "8800 0.550872266292572\n",
            "8900 0.5505298376083374\n",
            "9000 0.5501772165298462\n",
            "9100 0.549839973449707\n",
            "9200 0.549527108669281\n",
            "9300 0.5492172837257385\n",
            "9400 0.5488765835762024\n",
            "9500 0.548566997051239\n",
            "9600 0.5482854247093201\n",
            "9700 0.5479520559310913\n",
            "9800 0.547649085521698\n",
            "9900 0.5473763346672058\n",
            "10000 0.5470660328865051\n",
            "10100 0.5467694401741028\n",
            "10200 0.5464897751808167\n",
            "10300 0.5462256073951721\n",
            "10400 0.5459369421005249\n",
            "10500 0.5456499457359314\n",
            "10600 0.545381486415863\n",
            "10700 0.5451107621192932\n",
            "10800 0.5448517203330994\n",
            "10900 0.5445868372917175\n",
            "11000 0.5443363785743713\n",
            "11100 0.5440746545791626\n",
            "11200 0.5438252091407776\n",
            "11300 0.5435740947723389\n",
            "11400 0.5433341264724731\n",
            "11500 0.5431081056594849\n",
            "11600 0.5428541302680969\n",
            "11700 0.5426170825958252\n",
            "11800 0.5423949956893921\n",
            "11900 0.5421504974365234\n",
            "12000 0.5419398546218872\n",
            "12100 0.541699230670929\n",
            "12200 0.5414832830429077\n",
            "12300 0.5412793755531311\n",
            "12400 0.5410526394844055\n",
            "12500 0.5408327579498291\n",
            "12600 0.5406239628791809\n",
            "12700 0.5404151678085327\n",
            "12800 0.5402100682258606\n",
            "12900 0.5400084853172302\n",
            "13000 0.5398181080818176\n",
            "13100 0.5396224856376648\n",
            "13200 0.5394211411476135\n",
            "13300 0.5392249226570129\n",
            "13400 0.5390490889549255\n",
            "13500 0.5388486981391907\n",
            "13600 0.5386689305305481\n",
            "13700 0.5384891629219055\n",
            "13800 0.5382977724075317\n",
            "13900 0.5381232500076294\n",
            "14000 0.5379495620727539\n",
            "14100 0.5377730131149292\n",
            "14200 0.5376040935516357\n",
            "14300 0.537429690361023\n",
            "14400 0.5372645854949951\n",
            "14500 0.5371123552322388\n",
            "14600 0.5369409322738647\n",
            "14700 0.5367776155471802\n",
            "14800 0.5366203784942627\n",
            "14900 0.5364640951156616\n"
          ]
        }
      ]
    },
    {
      "cell_type": "code",
      "source": [
        "print(net_small[1])\n",
        "n_params = sum([np.prod(param.shape) for param in net_small[-1].parameters()])\n",
        "grad_matrix_ranks = compute_grad_matrix_ranks(net_small, x[:n_params], l0_threshold_grad_matrix)\n",
        "plt.plot(grad_matrix_ranks)\n",
        "# for i in range(m):\n",
        "#   plt.xlim(0, 400)\n",
        "#   plt.ylim(0, 0.15)\n",
        "#   plt.plot(norm_small[::10, 0, i])\n",
        "#   plt.title('lr={0}'.format(lr_small))\n",
        "  #plt.plot(log2[::10, 1, i])"
      ],
      "metadata": {
        "colab": {
          "base_uri": "https://localhost:8080/",
          "height": 519
        },
        "id": "5tExVPyI8noG",
        "outputId": "170dcf37-bc57-4cea-99a4-70ab7d84b2ed"
      },
      "execution_count": 10,
      "outputs": [
        {
          "output_type": "stream",
          "name": "stdout",
          "text": [
            "TwoLayerNN(\n",
            "  (fc1_pos): Linear(in_features=2, out_features=30, bias=False)\n",
            "  (fc1_neg): Linear(in_features=2, out_features=30, bias=False)\n",
            ")\n"
          ]
        },
        {
          "output_type": "execute_result",
          "data": {
            "text/plain": [
              "[<matplotlib.lines.Line2D at 0x7b145c6e3280>]"
            ]
          },
          "metadata": {},
          "execution_count": 10
        },
        {
          "output_type": "display_data",
          "data": {
            "text/plain": [
              "<Figure size 640x480 with 1 Axes>"
            ],
            "image/png": "[encoded data removed]"
          },
          "metadata": {}
        }
      ]
    },
    {
      "cell_type": "code",
      "source": [
        "print(net_large[1])\n",
        "n_params = sum([np.prod(param.shape) for param in net_large[-1].parameters()])\n",
        "grad_matrix_ranks = compute_grad_matrix_ranks(net_large, x[:n_params], l0_threshold_grad_matrix)\n",
        "plt.plot(grad_matrix_ranks)"
      ],
      "metadata": {
        "colab": {
          "base_uri": "https://localhost:8080/",
          "height": 519
        },
        "id": "bgYQejdJ_SB_",
        "outputId": "ecdad1fa-0d82-4065-9434-5f2fcb0a1d93"
      },
      "execution_count": 11,
      "outputs": [
        {
          "output_type": "stream",
          "name": "stdout",
          "text": [
            "TwoLayerNN(\n",
            "  (fc1_pos): Linear(in_features=2, out_features=30, bias=False)\n",
            "  (fc1_neg): Linear(in_features=2, out_features=30, bias=False)\n",
            ")\n"
          ]
        },
        {
          "output_type": "execute_result",
          "data": {
            "text/plain": [
              "[<matplotlib.lines.Line2D at 0x7b145c2c7130>]"
            ]
          },
          "metadata": {},
          "execution_count": 11
        },
        {
          "output_type": "display_data",
          "data": {
            "text/plain": [
              "<Figure size 640x480 with 1 Axes>"
            ],
            "image/png": "[encoded data removed]"
          },
          "metadata": {}
        }
      ]
    },
    {
      "cell_type": "code",
      "source": [
        "plt.plot(loss_small)\n",
        "plt.plot(loss_large)"
      ],
      "metadata": {
        "colab": {
          "base_uri": "https://localhost:8080/",
          "height": 448
        },
        "id": "Mr7MAtoqBjOR",
        "outputId": "06b50501-919b-4e1e-af8f-21c84c45b6a9"
      },
      "execution_count": 12,
      "outputs": [
        {
          "output_type": "execute_result",
          "data": {
            "text/plain": [
              "[<matplotlib.lines.Line2D at 0x7b145c15dd20>]"
            ]
          },
          "metadata": {},
          "execution_count": 12
        },
        {
          "output_type": "display_data",
          "data": {
            "text/plain": [
              "<Figure size 640x480 with 1 Axes>"
            ],
            "image/png": "[encoded data removed]"
          },
          "metadata": {}
        }
      ]
    }
  ]
}